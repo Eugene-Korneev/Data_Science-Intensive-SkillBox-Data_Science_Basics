{
  "cells": [
    {
      "cell_type": "code",
      "execution_count": 1,
      "outputs": [],
      "source": "# Data_sets:\n# https://pjreddie.com/media/files/mnist_train.csv\n# https://pjreddie.com/media/files/mnist_test.csv",
      "metadata": {
        "pycharm": {
          "metadata": false,
          "name": "#%%\n",
          "is_executing": false
        }
      }
    },
    {
      "cell_type": "code",
      "execution_count": 2,
      "outputs": [],
      "source": "# import numpy as np\nimport pandas as pd\nfrom matplotlib import pyplot as plt",
      "metadata": {
        "pycharm": {
          "metadata": false,
          "name": "#%%\n",
          "is_executing": false
        }
      }
    },
    {
      "cell_type": "code",
      "execution_count": 3,
      "outputs": [],
      "source": "mnist_train \u003d pd.read_csv(\"./data_sets/mnist_train.csv\", header\u003dNone)\nmnist_test \u003d pd.read_csv(\"./data_sets/mnist_test.csv\", header\u003dNone)",
      "metadata": {
        "pycharm": {
          "metadata": false,
          "name": "#%%\n",
          "is_executing": false
        }
      }
    },
    {
      "cell_type": "code",
      "execution_count": 4,
      "outputs": [
        {
          "data": {
            "text/plain": "(60000, 785)"
          },
          "metadata": {},
          "output_type": "execute_result",
          "execution_count": 4
        }
      ],
      "source": "mnist_train.shape",
      "metadata": {
        "pycharm": {
          "metadata": false,
          "name": "#%%\n",
          "is_executing": false
        }
      }
    },
    {
      "cell_type": "code",
      "execution_count": 5,
      "outputs": [
        {
          "data": {
            "text/plain": "(10000, 785)"
          },
          "metadata": {},
          "output_type": "execute_result",
          "execution_count": 5
        }
      ],
      "source": "mnist_test.shape",
      "metadata": {
        "pycharm": {
          "metadata": false,
          "name": "#%%\n",
          "is_executing": false
        }
      }
    },
    {
      "cell_type": "code",
      "execution_count": 6,
      "outputs": [
        {
          "data": {
            "text/plain": "   0    1    2    3    4    5    6    7    8    9    ...  775  776  777  778  \\\n0    5    0    0    0    0    0    0    0    0    0  ...    0    0    0    0   \n1    0    0    0    0    0    0    0    0    0    0  ...    0    0    0    0   \n2    4    0    0    0    0    0    0    0    0    0  ...    0    0    0    0   \n3    1    0    0    0    0    0    0    0    0    0  ...    0    0    0    0   \n4    9    0    0    0    0    0    0    0    0    0  ...    0    0    0    0   \n\n   779  780  781  782  783  784  \n0    0    0    0    0    0    0  \n1    0    0    0    0    0    0  \n2    0    0    0    0    0    0  \n3    0    0    0    0    0    0  \n4    0    0    0    0    0    0  \n\n[5 rows x 785 columns]",
            "text/html": "\u003cdiv\u003e\n\u003cstyle scoped\u003e\n    .dataframe tbody tr th:only-of-type {\n        vertical-align: middle;\n    }\n\n    .dataframe tbody tr th {\n        vertical-align: top;\n    }\n\n    .dataframe thead th {\n        text-align: right;\n    }\n\u003c/style\u003e\n\u003ctable border\u003d\"1\" class\u003d\"dataframe\"\u003e\n  \u003cthead\u003e\n    \u003ctr style\u003d\"text-align: right;\"\u003e\n      \u003cth\u003e\u003c/th\u003e\n      \u003cth\u003e0\u003c/th\u003e\n      \u003cth\u003e1\u003c/th\u003e\n      \u003cth\u003e2\u003c/th\u003e\n      \u003cth\u003e3\u003c/th\u003e\n      \u003cth\u003e4\u003c/th\u003e\n      \u003cth\u003e5\u003c/th\u003e\n      \u003cth\u003e6\u003c/th\u003e\n      \u003cth\u003e7\u003c/th\u003e\n      \u003cth\u003e8\u003c/th\u003e\n      \u003cth\u003e9\u003c/th\u003e\n      \u003cth\u003e...\u003c/th\u003e\n      \u003cth\u003e775\u003c/th\u003e\n      \u003cth\u003e776\u003c/th\u003e\n      \u003cth\u003e777\u003c/th\u003e\n      \u003cth\u003e778\u003c/th\u003e\n      \u003cth\u003e779\u003c/th\u003e\n      \u003cth\u003e780\u003c/th\u003e\n      \u003cth\u003e781\u003c/th\u003e\n      \u003cth\u003e782\u003c/th\u003e\n      \u003cth\u003e783\u003c/th\u003e\n      \u003cth\u003e784\u003c/th\u003e\n    \u003c/tr\u003e\n  \u003c/thead\u003e\n  \u003ctbody\u003e\n    \u003ctr\u003e\n      \u003cth\u003e0\u003c/th\u003e\n      \u003ctd\u003e5\u003c/td\u003e\n      \u003ctd\u003e0\u003c/td\u003e\n      \u003ctd\u003e0\u003c/td\u003e\n      \u003ctd\u003e0\u003c/td\u003e\n      \u003ctd\u003e0\u003c/td\u003e\n      \u003ctd\u003e0\u003c/td\u003e\n      \u003ctd\u003e0\u003c/td\u003e\n      \u003ctd\u003e0\u003c/td\u003e\n      \u003ctd\u003e0\u003c/td\u003e\n      \u003ctd\u003e0\u003c/td\u003e\n      \u003ctd\u003e...\u003c/td\u003e\n      \u003ctd\u003e0\u003c/td\u003e\n      \u003ctd\u003e0\u003c/td\u003e\n      \u003ctd\u003e0\u003c/td\u003e\n      \u003ctd\u003e0\u003c/td\u003e\n      \u003ctd\u003e0\u003c/td\u003e\n      \u003ctd\u003e0\u003c/td\u003e\n      \u003ctd\u003e0\u003c/td\u003e\n      \u003ctd\u003e0\u003c/td\u003e\n      \u003ctd\u003e0\u003c/td\u003e\n      \u003ctd\u003e0\u003c/td\u003e\n    \u003c/tr\u003e\n    \u003ctr\u003e\n      \u003cth\u003e1\u003c/th\u003e\n      \u003ctd\u003e0\u003c/td\u003e\n      \u003ctd\u003e0\u003c/td\u003e\n      \u003ctd\u003e0\u003c/td\u003e\n      \u003ctd\u003e0\u003c/td\u003e\n      \u003ctd\u003e0\u003c/td\u003e\n      \u003ctd\u003e0\u003c/td\u003e\n      \u003ctd\u003e0\u003c/td\u003e\n      \u003ctd\u003e0\u003c/td\u003e\n      \u003ctd\u003e0\u003c/td\u003e\n      \u003ctd\u003e0\u003c/td\u003e\n      \u003ctd\u003e...\u003c/td\u003e\n      \u003ctd\u003e0\u003c/td\u003e\n      \u003ctd\u003e0\u003c/td\u003e\n      \u003ctd\u003e0\u003c/td\u003e\n      \u003ctd\u003e0\u003c/td\u003e\n      \u003ctd\u003e0\u003c/td\u003e\n      \u003ctd\u003e0\u003c/td\u003e\n      \u003ctd\u003e0\u003c/td\u003e\n      \u003ctd\u003e0\u003c/td\u003e\n      \u003ctd\u003e0\u003c/td\u003e\n      \u003ctd\u003e0\u003c/td\u003e\n    \u003c/tr\u003e\n    \u003ctr\u003e\n      \u003cth\u003e2\u003c/th\u003e\n      \u003ctd\u003e4\u003c/td\u003e\n      \u003ctd\u003e0\u003c/td\u003e\n      \u003ctd\u003e0\u003c/td\u003e\n      \u003ctd\u003e0\u003c/td\u003e\n      \u003ctd\u003e0\u003c/td\u003e\n      \u003ctd\u003e0\u003c/td\u003e\n      \u003ctd\u003e0\u003c/td\u003e\n      \u003ctd\u003e0\u003c/td\u003e\n      \u003ctd\u003e0\u003c/td\u003e\n      \u003ctd\u003e0\u003c/td\u003e\n      \u003ctd\u003e...\u003c/td\u003e\n      \u003ctd\u003e0\u003c/td\u003e\n      \u003ctd\u003e0\u003c/td\u003e\n      \u003ctd\u003e0\u003c/td\u003e\n      \u003ctd\u003e0\u003c/td\u003e\n      \u003ctd\u003e0\u003c/td\u003e\n      \u003ctd\u003e0\u003c/td\u003e\n      \u003ctd\u003e0\u003c/td\u003e\n      \u003ctd\u003e0\u003c/td\u003e\n      \u003ctd\u003e0\u003c/td\u003e\n      \u003ctd\u003e0\u003c/td\u003e\n    \u003c/tr\u003e\n    \u003ctr\u003e\n      \u003cth\u003e3\u003c/th\u003e\n      \u003ctd\u003e1\u003c/td\u003e\n      \u003ctd\u003e0\u003c/td\u003e\n      \u003ctd\u003e0\u003c/td\u003e\n      \u003ctd\u003e0\u003c/td\u003e\n      \u003ctd\u003e0\u003c/td\u003e\n      \u003ctd\u003e0\u003c/td\u003e\n      \u003ctd\u003e0\u003c/td\u003e\n      \u003ctd\u003e0\u003c/td\u003e\n      \u003ctd\u003e0\u003c/td\u003e\n      \u003ctd\u003e0\u003c/td\u003e\n      \u003ctd\u003e...\u003c/td\u003e\n      \u003ctd\u003e0\u003c/td\u003e\n      \u003ctd\u003e0\u003c/td\u003e\n      \u003ctd\u003e0\u003c/td\u003e\n      \u003ctd\u003e0\u003c/td\u003e\n      \u003ctd\u003e0\u003c/td\u003e\n      \u003ctd\u003e0\u003c/td\u003e\n      \u003ctd\u003e0\u003c/td\u003e\n      \u003ctd\u003e0\u003c/td\u003e\n      \u003ctd\u003e0\u003c/td\u003e\n      \u003ctd\u003e0\u003c/td\u003e\n    \u003c/tr\u003e\n    \u003ctr\u003e\n      \u003cth\u003e4\u003c/th\u003e\n      \u003ctd\u003e9\u003c/td\u003e\n      \u003ctd\u003e0\u003c/td\u003e\n      \u003ctd\u003e0\u003c/td\u003e\n      \u003ctd\u003e0\u003c/td\u003e\n      \u003ctd\u003e0\u003c/td\u003e\n      \u003ctd\u003e0\u003c/td\u003e\n      \u003ctd\u003e0\u003c/td\u003e\n      \u003ctd\u003e0\u003c/td\u003e\n      \u003ctd\u003e0\u003c/td\u003e\n      \u003ctd\u003e0\u003c/td\u003e\n      \u003ctd\u003e...\u003c/td\u003e\n      \u003ctd\u003e0\u003c/td\u003e\n      \u003ctd\u003e0\u003c/td\u003e\n      \u003ctd\u003e0\u003c/td\u003e\n      \u003ctd\u003e0\u003c/td\u003e\n      \u003ctd\u003e0\u003c/td\u003e\n      \u003ctd\u003e0\u003c/td\u003e\n      \u003ctd\u003e0\u003c/td\u003e\n      \u003ctd\u003e0\u003c/td\u003e\n      \u003ctd\u003e0\u003c/td\u003e\n      \u003ctd\u003e0\u003c/td\u003e\n    \u003c/tr\u003e\n  \u003c/tbody\u003e\n\u003c/table\u003e\n\u003cp\u003e5 rows × 785 columns\u003c/p\u003e\n\u003c/div\u003e"
          },
          "metadata": {},
          "output_type": "execute_result",
          "execution_count": 6
        }
      ],
      "source": "mnist_train.head(5)",
      "metadata": {
        "pycharm": {
          "metadata": false,
          "name": "#%%\n",
          "is_executing": false
        }
      }
    },
    {
      "cell_type": "code",
      "execution_count": 7,
      "outputs": [],
      "source": "cols \u003d [\"label\"]\nfor i in range(784):\n    cols.append(f\"px_{i + 1}\")",
      "metadata": {
        "pycharm": {
          "metadata": false,
          "name": "#%%\n",
          "is_executing": false
        }
      }
    },
    {
      "cell_type": "code",
      "execution_count": 8,
      "outputs": [
        {
          "name": "stdout",
          "text": [
            "[\u0027label\u0027, \u0027px_1\u0027, \u0027px_2\u0027, \u0027px_3\u0027, \u0027px_4\u0027, \u0027px_5\u0027, \u0027px_6\u0027, \u0027px_7\u0027, \u0027px_8\u0027, \u0027px_9\u0027, \u0027px_10\u0027, \u0027px_11\u0027, \u0027px_12\u0027, \u0027px_13\u0027, \u0027px_14\u0027, \u0027px_15\u0027, \u0027px_16\u0027, \u0027px_17\u0027, \u0027px_18\u0027, \u0027px_19\u0027, \u0027px_20\u0027, \u0027px_21\u0027, \u0027px_22\u0027, \u0027px_23\u0027, \u0027px_24\u0027, \u0027px_25\u0027, \u0027px_26\u0027, \u0027px_27\u0027, \u0027px_28\u0027, \u0027px_29\u0027, \u0027px_30\u0027, \u0027px_31\u0027, \u0027px_32\u0027, \u0027px_33\u0027, \u0027px_34\u0027, \u0027px_35\u0027, \u0027px_36\u0027, \u0027px_37\u0027, \u0027px_38\u0027, \u0027px_39\u0027, \u0027px_40\u0027, \u0027px_41\u0027, \u0027px_42\u0027, \u0027px_43\u0027, \u0027px_44\u0027, \u0027px_45\u0027, \u0027px_46\u0027, \u0027px_47\u0027, \u0027px_48\u0027, \u0027px_49\u0027, \u0027px_50\u0027, \u0027px_51\u0027, \u0027px_52\u0027, \u0027px_53\u0027, \u0027px_54\u0027, \u0027px_55\u0027, \u0027px_56\u0027, \u0027px_57\u0027, \u0027px_58\u0027, \u0027px_59\u0027, \u0027px_60\u0027, \u0027px_61\u0027, \u0027px_62\u0027, \u0027px_63\u0027, \u0027px_64\u0027, \u0027px_65\u0027, \u0027px_66\u0027, \u0027px_67\u0027, \u0027px_68\u0027, \u0027px_69\u0027, \u0027px_70\u0027, \u0027px_71\u0027, \u0027px_72\u0027, \u0027px_73\u0027, \u0027px_74\u0027, \u0027px_75\u0027, \u0027px_76\u0027, \u0027px_77\u0027, \u0027px_78\u0027, \u0027px_79\u0027, \u0027px_80\u0027, \u0027px_81\u0027, \u0027px_82\u0027, \u0027px_83\u0027, \u0027px_84\u0027, \u0027px_85\u0027, \u0027px_86\u0027, \u0027px_87\u0027, \u0027px_88\u0027, \u0027px_89\u0027, \u0027px_90\u0027, \u0027px_91\u0027, \u0027px_92\u0027, \u0027px_93\u0027, \u0027px_94\u0027, \u0027px_95\u0027, \u0027px_96\u0027, \u0027px_97\u0027, \u0027px_98\u0027, \u0027px_99\u0027, \u0027px_100\u0027, \u0027px_101\u0027, \u0027px_102\u0027, \u0027px_103\u0027, \u0027px_104\u0027, \u0027px_105\u0027, \u0027px_106\u0027, \u0027px_107\u0027, \u0027px_108\u0027, \u0027px_109\u0027, \u0027px_110\u0027, \u0027px_111\u0027, \u0027px_112\u0027, \u0027px_113\u0027, \u0027px_114\u0027, \u0027px_115\u0027, \u0027px_116\u0027, \u0027px_117\u0027, \u0027px_118\u0027, \u0027px_119\u0027, \u0027px_120\u0027, \u0027px_121\u0027, \u0027px_122\u0027, \u0027px_123\u0027, \u0027px_124\u0027, \u0027px_125\u0027, \u0027px_126\u0027, \u0027px_127\u0027, \u0027px_128\u0027, \u0027px_129\u0027, \u0027px_130\u0027, \u0027px_131\u0027, \u0027px_132\u0027, \u0027px_133\u0027, \u0027px_134\u0027, \u0027px_135\u0027, \u0027px_136\u0027, \u0027px_137\u0027, \u0027px_138\u0027, \u0027px_139\u0027, \u0027px_140\u0027, \u0027px_141\u0027, \u0027px_142\u0027, \u0027px_143\u0027, \u0027px_144\u0027, \u0027px_145\u0027, \u0027px_146\u0027, \u0027px_147\u0027, \u0027px_148\u0027, \u0027px_149\u0027, \u0027px_150\u0027, \u0027px_151\u0027, \u0027px_152\u0027, \u0027px_153\u0027, \u0027px_154\u0027, \u0027px_155\u0027, \u0027px_156\u0027, \u0027px_157\u0027, \u0027px_158\u0027, \u0027px_159\u0027, \u0027px_160\u0027, \u0027px_161\u0027, \u0027px_162\u0027, \u0027px_163\u0027, \u0027px_164\u0027, \u0027px_165\u0027, \u0027px_166\u0027, \u0027px_167\u0027, \u0027px_168\u0027, \u0027px_169\u0027, \u0027px_170\u0027, \u0027px_171\u0027, \u0027px_172\u0027, \u0027px_173\u0027, \u0027px_174\u0027, \u0027px_175\u0027, \u0027px_176\u0027, \u0027px_177\u0027, \u0027px_178\u0027, \u0027px_179\u0027, \u0027px_180\u0027, \u0027px_181\u0027, \u0027px_182\u0027, \u0027px_183\u0027, \u0027px_184\u0027, \u0027px_185\u0027, \u0027px_186\u0027, \u0027px_187\u0027, \u0027px_188\u0027, \u0027px_189\u0027, \u0027px_190\u0027, \u0027px_191\u0027, \u0027px_192\u0027, \u0027px_193\u0027, \u0027px_194\u0027, \u0027px_195\u0027, \u0027px_196\u0027, \u0027px_197\u0027, \u0027px_198\u0027, \u0027px_199\u0027, \u0027px_200\u0027, \u0027px_201\u0027, \u0027px_202\u0027, \u0027px_203\u0027, \u0027px_204\u0027, \u0027px_205\u0027, \u0027px_206\u0027, \u0027px_207\u0027, \u0027px_208\u0027, \u0027px_209\u0027, \u0027px_210\u0027, \u0027px_211\u0027, \u0027px_212\u0027, \u0027px_213\u0027, \u0027px_214\u0027, \u0027px_215\u0027, \u0027px_216\u0027, \u0027px_217\u0027, \u0027px_218\u0027, \u0027px_219\u0027, \u0027px_220\u0027, \u0027px_221\u0027, \u0027px_222\u0027, \u0027px_223\u0027, \u0027px_224\u0027, \u0027px_225\u0027, \u0027px_226\u0027, \u0027px_227\u0027, \u0027px_228\u0027, \u0027px_229\u0027, \u0027px_230\u0027, \u0027px_231\u0027, \u0027px_232\u0027, \u0027px_233\u0027, \u0027px_234\u0027, \u0027px_235\u0027, \u0027px_236\u0027, \u0027px_237\u0027, \u0027px_238\u0027, \u0027px_239\u0027, \u0027px_240\u0027, \u0027px_241\u0027, \u0027px_242\u0027, \u0027px_243\u0027, \u0027px_244\u0027, \u0027px_245\u0027, \u0027px_246\u0027, \u0027px_247\u0027, \u0027px_248\u0027, \u0027px_249\u0027, \u0027px_250\u0027, \u0027px_251\u0027, \u0027px_252\u0027, \u0027px_253\u0027, \u0027px_254\u0027, \u0027px_255\u0027, \u0027px_256\u0027, \u0027px_257\u0027, \u0027px_258\u0027, \u0027px_259\u0027, \u0027px_260\u0027, \u0027px_261\u0027, \u0027px_262\u0027, \u0027px_263\u0027, \u0027px_264\u0027, \u0027px_265\u0027, \u0027px_266\u0027, \u0027px_267\u0027, \u0027px_268\u0027, \u0027px_269\u0027, \u0027px_270\u0027, \u0027px_271\u0027, \u0027px_272\u0027, \u0027px_273\u0027, \u0027px_274\u0027, \u0027px_275\u0027, \u0027px_276\u0027, \u0027px_277\u0027, \u0027px_278\u0027, \u0027px_279\u0027, \u0027px_280\u0027, \u0027px_281\u0027, \u0027px_282\u0027, \u0027px_283\u0027, \u0027px_284\u0027, \u0027px_285\u0027, \u0027px_286\u0027, \u0027px_287\u0027, \u0027px_288\u0027, \u0027px_289\u0027, \u0027px_290\u0027, \u0027px_291\u0027, \u0027px_292\u0027, \u0027px_293\u0027, \u0027px_294\u0027, \u0027px_295\u0027, \u0027px_296\u0027, \u0027px_297\u0027, \u0027px_298\u0027, \u0027px_299\u0027, \u0027px_300\u0027, \u0027px_301\u0027, \u0027px_302\u0027, \u0027px_303\u0027, \u0027px_304\u0027, \u0027px_305\u0027, \u0027px_306\u0027, \u0027px_307\u0027, \u0027px_308\u0027, \u0027px_309\u0027, \u0027px_310\u0027, \u0027px_311\u0027, \u0027px_312\u0027, \u0027px_313\u0027, \u0027px_314\u0027, \u0027px_315\u0027, \u0027px_316\u0027, \u0027px_317\u0027, \u0027px_318\u0027, \u0027px_319\u0027, \u0027px_320\u0027, \u0027px_321\u0027, \u0027px_322\u0027, \u0027px_323\u0027, \u0027px_324\u0027, \u0027px_325\u0027, \u0027px_326\u0027, \u0027px_327\u0027, \u0027px_328\u0027, \u0027px_329\u0027, \u0027px_330\u0027, \u0027px_331\u0027, \u0027px_332\u0027, \u0027px_333\u0027, \u0027px_334\u0027, \u0027px_335\u0027, \u0027px_336\u0027, \u0027px_337\u0027, \u0027px_338\u0027, \u0027px_339\u0027, \u0027px_340\u0027, \u0027px_341\u0027, \u0027px_342\u0027, \u0027px_343\u0027, \u0027px_344\u0027, \u0027px_345\u0027, \u0027px_346\u0027, \u0027px_347\u0027, \u0027px_348\u0027, \u0027px_349\u0027, \u0027px_350\u0027, \u0027px_351\u0027, \u0027px_352\u0027, \u0027px_353\u0027, \u0027px_354\u0027, \u0027px_355\u0027, \u0027px_356\u0027, \u0027px_357\u0027, \u0027px_358\u0027, \u0027px_359\u0027, \u0027px_360\u0027, \u0027px_361\u0027, \u0027px_362\u0027, \u0027px_363\u0027, \u0027px_364\u0027, \u0027px_365\u0027, \u0027px_366\u0027, \u0027px_367\u0027, \u0027px_368\u0027, \u0027px_369\u0027, \u0027px_370\u0027, \u0027px_371\u0027, \u0027px_372\u0027, \u0027px_373\u0027, \u0027px_374\u0027, \u0027px_375\u0027, \u0027px_376\u0027, \u0027px_377\u0027, \u0027px_378\u0027, \u0027px_379\u0027, \u0027px_380\u0027, \u0027px_381\u0027, \u0027px_382\u0027, \u0027px_383\u0027, \u0027px_384\u0027, \u0027px_385\u0027, \u0027px_386\u0027, \u0027px_387\u0027, \u0027px_388\u0027, \u0027px_389\u0027, \u0027px_390\u0027, \u0027px_391\u0027, \u0027px_392\u0027, \u0027px_393\u0027, \u0027px_394\u0027, \u0027px_395\u0027, \u0027px_396\u0027, \u0027px_397\u0027, \u0027px_398\u0027, \u0027px_399\u0027, \u0027px_400\u0027, \u0027px_401\u0027, \u0027px_402\u0027, \u0027px_403\u0027, \u0027px_404\u0027, \u0027px_405\u0027, \u0027px_406\u0027, \u0027px_407\u0027, \u0027px_408\u0027, \u0027px_409\u0027, \u0027px_410\u0027, \u0027px_411\u0027, \u0027px_412\u0027, \u0027px_413\u0027, \u0027px_414\u0027, \u0027px_415\u0027, \u0027px_416\u0027, \u0027px_417\u0027, \u0027px_418\u0027, \u0027px_419\u0027, \u0027px_420\u0027, \u0027px_421\u0027, \u0027px_422\u0027, \u0027px_423\u0027, \u0027px_424\u0027, \u0027px_425\u0027, \u0027px_426\u0027, \u0027px_427\u0027, \u0027px_428\u0027, \u0027px_429\u0027, \u0027px_430\u0027, \u0027px_431\u0027, \u0027px_432\u0027, \u0027px_433\u0027, \u0027px_434\u0027, \u0027px_435\u0027, \u0027px_436\u0027, \u0027px_437\u0027, \u0027px_438\u0027, \u0027px_439\u0027, \u0027px_440\u0027, \u0027px_441\u0027, \u0027px_442\u0027, \u0027px_443\u0027, \u0027px_444\u0027, \u0027px_445\u0027, \u0027px_446\u0027, \u0027px_447\u0027, \u0027px_448\u0027, \u0027px_449\u0027, \u0027px_450\u0027, \u0027px_451\u0027, \u0027px_452\u0027, \u0027px_453\u0027, \u0027px_454\u0027, \u0027px_455\u0027, \u0027px_456\u0027, \u0027px_457\u0027, \u0027px_458\u0027, \u0027px_459\u0027, \u0027px_460\u0027, \u0027px_461\u0027, \u0027px_462\u0027, \u0027px_463\u0027, \u0027px_464\u0027, \u0027px_465\u0027, \u0027px_466\u0027, \u0027px_467\u0027, \u0027px_468\u0027, \u0027px_469\u0027, \u0027px_470\u0027, \u0027px_471\u0027, \u0027px_472\u0027, \u0027px_473\u0027, \u0027px_474\u0027, \u0027px_475\u0027, \u0027px_476\u0027, \u0027px_477\u0027, \u0027px_478\u0027, \u0027px_479\u0027, \u0027px_480\u0027, \u0027px_481\u0027, \u0027px_482\u0027, \u0027px_483\u0027, \u0027px_484\u0027, \u0027px_485\u0027, \u0027px_486\u0027, \u0027px_487\u0027, \u0027px_488\u0027, \u0027px_489\u0027, \u0027px_490\u0027, \u0027px_491\u0027, \u0027px_492\u0027, \u0027px_493\u0027, \u0027px_494\u0027, \u0027px_495\u0027, \u0027px_496\u0027, \u0027px_497\u0027, \u0027px_498\u0027, \u0027px_499\u0027, \u0027px_500\u0027, \u0027px_501\u0027, \u0027px_502\u0027, \u0027px_503\u0027, \u0027px_504\u0027, \u0027px_505\u0027, \u0027px_506\u0027, \u0027px_507\u0027, \u0027px_508\u0027, \u0027px_509\u0027, \u0027px_510\u0027, \u0027px_511\u0027, \u0027px_512\u0027, \u0027px_513\u0027, \u0027px_514\u0027, \u0027px_515\u0027, \u0027px_516\u0027, \u0027px_517\u0027, \u0027px_518\u0027, \u0027px_519\u0027, \u0027px_520\u0027, \u0027px_521\u0027, \u0027px_522\u0027, \u0027px_523\u0027, \u0027px_524\u0027, \u0027px_525\u0027, \u0027px_526\u0027, \u0027px_527\u0027, \u0027px_528\u0027, \u0027px_529\u0027, \u0027px_530\u0027, \u0027px_531\u0027, \u0027px_532\u0027, \u0027px_533\u0027, \u0027px_534\u0027, \u0027px_535\u0027, \u0027px_536\u0027, \u0027px_537\u0027, \u0027px_538\u0027, \u0027px_539\u0027, \u0027px_540\u0027, \u0027px_541\u0027, \u0027px_542\u0027, \u0027px_543\u0027, \u0027px_544\u0027, \u0027px_545\u0027, \u0027px_546\u0027, \u0027px_547\u0027, \u0027px_548\u0027, \u0027px_549\u0027, \u0027px_550\u0027, \u0027px_551\u0027, \u0027px_552\u0027, \u0027px_553\u0027, \u0027px_554\u0027, \u0027px_555\u0027, \u0027px_556\u0027, \u0027px_557\u0027, \u0027px_558\u0027, \u0027px_559\u0027, \u0027px_560\u0027, \u0027px_561\u0027, \u0027px_562\u0027, \u0027px_563\u0027, \u0027px_564\u0027, \u0027px_565\u0027, \u0027px_566\u0027, \u0027px_567\u0027, \u0027px_568\u0027, \u0027px_569\u0027, \u0027px_570\u0027, \u0027px_571\u0027, \u0027px_572\u0027, \u0027px_573\u0027, \u0027px_574\u0027, \u0027px_575\u0027, \u0027px_576\u0027, \u0027px_577\u0027, \u0027px_578\u0027, \u0027px_579\u0027, \u0027px_580\u0027, \u0027px_581\u0027, \u0027px_582\u0027, \u0027px_583\u0027, \u0027px_584\u0027, \u0027px_585\u0027, \u0027px_586\u0027, \u0027px_587\u0027, \u0027px_588\u0027, \u0027px_589\u0027, \u0027px_590\u0027, \u0027px_591\u0027, \u0027px_592\u0027, \u0027px_593\u0027, \u0027px_594\u0027, \u0027px_595\u0027, \u0027px_596\u0027, \u0027px_597\u0027, \u0027px_598\u0027, \u0027px_599\u0027, \u0027px_600\u0027, \u0027px_601\u0027, \u0027px_602\u0027, \u0027px_603\u0027, \u0027px_604\u0027, \u0027px_605\u0027, \u0027px_606\u0027, \u0027px_607\u0027, \u0027px_608\u0027, \u0027px_609\u0027, \u0027px_610\u0027, \u0027px_611\u0027, \u0027px_612\u0027, \u0027px_613\u0027, \u0027px_614\u0027, \u0027px_615\u0027, \u0027px_616\u0027, \u0027px_617\u0027, \u0027px_618\u0027, \u0027px_619\u0027, \u0027px_620\u0027, \u0027px_621\u0027, \u0027px_622\u0027, \u0027px_623\u0027, \u0027px_624\u0027, \u0027px_625\u0027, \u0027px_626\u0027, \u0027px_627\u0027, \u0027px_628\u0027, \u0027px_629\u0027, \u0027px_630\u0027, \u0027px_631\u0027, \u0027px_632\u0027, \u0027px_633\u0027, \u0027px_634\u0027, \u0027px_635\u0027, \u0027px_636\u0027, \u0027px_637\u0027, \u0027px_638\u0027, \u0027px_639\u0027, \u0027px_640\u0027, \u0027px_641\u0027, \u0027px_642\u0027, \u0027px_643\u0027, \u0027px_644\u0027, \u0027px_645\u0027, \u0027px_646\u0027, \u0027px_647\u0027, \u0027px_648\u0027, \u0027px_649\u0027, \u0027px_650\u0027, \u0027px_651\u0027, \u0027px_652\u0027, \u0027px_653\u0027, \u0027px_654\u0027, \u0027px_655\u0027, \u0027px_656\u0027, \u0027px_657\u0027, \u0027px_658\u0027, \u0027px_659\u0027, \u0027px_660\u0027, \u0027px_661\u0027, \u0027px_662\u0027, \u0027px_663\u0027, \u0027px_664\u0027, \u0027px_665\u0027, \u0027px_666\u0027, \u0027px_667\u0027, \u0027px_668\u0027, \u0027px_669\u0027, \u0027px_670\u0027, \u0027px_671\u0027, \u0027px_672\u0027, \u0027px_673\u0027, \u0027px_674\u0027, \u0027px_675\u0027, \u0027px_676\u0027, \u0027px_677\u0027, \u0027px_678\u0027, \u0027px_679\u0027, \u0027px_680\u0027, \u0027px_681\u0027, \u0027px_682\u0027, \u0027px_683\u0027, \u0027px_684\u0027, \u0027px_685\u0027, \u0027px_686\u0027, \u0027px_687\u0027, \u0027px_688\u0027, \u0027px_689\u0027, \u0027px_690\u0027, \u0027px_691\u0027, \u0027px_692\u0027, \u0027px_693\u0027, \u0027px_694\u0027, \u0027px_695\u0027, \u0027px_696\u0027, \u0027px_697\u0027, \u0027px_698\u0027, \u0027px_699\u0027, \u0027px_700\u0027, \u0027px_701\u0027, \u0027px_702\u0027, \u0027px_703\u0027, \u0027px_704\u0027, \u0027px_705\u0027, \u0027px_706\u0027, \u0027px_707\u0027, \u0027px_708\u0027, \u0027px_709\u0027, \u0027px_710\u0027, \u0027px_711\u0027, \u0027px_712\u0027, \u0027px_713\u0027, \u0027px_714\u0027, \u0027px_715\u0027, \u0027px_716\u0027, \u0027px_717\u0027, \u0027px_718\u0027, \u0027px_719\u0027, \u0027px_720\u0027, \u0027px_721\u0027, \u0027px_722\u0027, \u0027px_723\u0027, \u0027px_724\u0027, \u0027px_725\u0027, \u0027px_726\u0027, \u0027px_727\u0027, \u0027px_728\u0027, \u0027px_729\u0027, \u0027px_730\u0027, \u0027px_731\u0027, \u0027px_732\u0027, \u0027px_733\u0027, \u0027px_734\u0027, \u0027px_735\u0027, \u0027px_736\u0027, \u0027px_737\u0027, \u0027px_738\u0027, \u0027px_739\u0027, \u0027px_740\u0027, \u0027px_741\u0027, \u0027px_742\u0027, \u0027px_743\u0027, \u0027px_744\u0027, \u0027px_745\u0027, \u0027px_746\u0027, \u0027px_747\u0027, \u0027px_748\u0027, \u0027px_749\u0027, \u0027px_750\u0027, \u0027px_751\u0027, \u0027px_752\u0027, \u0027px_753\u0027, \u0027px_754\u0027, \u0027px_755\u0027, \u0027px_756\u0027, \u0027px_757\u0027, \u0027px_758\u0027, \u0027px_759\u0027, \u0027px_760\u0027, \u0027px_761\u0027, \u0027px_762\u0027, \u0027px_763\u0027, \u0027px_764\u0027, \u0027px_765\u0027, \u0027px_766\u0027, \u0027px_767\u0027, \u0027px_768\u0027, \u0027px_769\u0027, \u0027px_770\u0027, \u0027px_771\u0027, \u0027px_772\u0027, \u0027px_773\u0027, \u0027px_774\u0027, \u0027px_775\u0027, \u0027px_776\u0027, \u0027px_777\u0027, \u0027px_778\u0027, \u0027px_779\u0027, \u0027px_780\u0027, \u0027px_781\u0027, \u0027px_782\u0027, \u0027px_783\u0027, \u0027px_784\u0027]\n"
          ],
          "output_type": "stream"
        }
      ],
      "source": "print(cols)",
      "metadata": {
        "pycharm": {
          "metadata": false,
          "name": "#%%\n",
          "is_executing": false
        }
      }
    },
    {
      "cell_type": "code",
      "execution_count": 9,
      "outputs": [],
      "source": "mnist_train.columns \u003d cols\nmnist_test.columns \u003d cols",
      "metadata": {
        "pycharm": {
          "metadata": false,
          "name": "#%%\n",
          "is_executing": false
        }
      }
    },
    {
      "cell_type": "code",
      "execution_count": 10,
      "outputs": [
        {
          "data": {
            "text/plain": "   label  px_1  px_2  px_3  px_4  px_5  px_6  px_7  px_8  px_9  ...  px_775  \\\n0      5     0     0     0     0     0     0     0     0     0  ...       0   \n1      0     0     0     0     0     0     0     0     0     0  ...       0   \n2      4     0     0     0     0     0     0     0     0     0  ...       0   \n3      1     0     0     0     0     0     0     0     0     0  ...       0   \n4      9     0     0     0     0     0     0     0     0     0  ...       0   \n\n   px_776  px_777  px_778  px_779  px_780  px_781  px_782  px_783  px_784  \n0       0       0       0       0       0       0       0       0       0  \n1       0       0       0       0       0       0       0       0       0  \n2       0       0       0       0       0       0       0       0       0  \n3       0       0       0       0       0       0       0       0       0  \n4       0       0       0       0       0       0       0       0       0  \n\n[5 rows x 785 columns]",
            "text/html": "\u003cdiv\u003e\n\u003cstyle scoped\u003e\n    .dataframe tbody tr th:only-of-type {\n        vertical-align: middle;\n    }\n\n    .dataframe tbody tr th {\n        vertical-align: top;\n    }\n\n    .dataframe thead th {\n        text-align: right;\n    }\n\u003c/style\u003e\n\u003ctable border\u003d\"1\" class\u003d\"dataframe\"\u003e\n  \u003cthead\u003e\n    \u003ctr style\u003d\"text-align: right;\"\u003e\n      \u003cth\u003e\u003c/th\u003e\n      \u003cth\u003elabel\u003c/th\u003e\n      \u003cth\u003epx_1\u003c/th\u003e\n      \u003cth\u003epx_2\u003c/th\u003e\n      \u003cth\u003epx_3\u003c/th\u003e\n      \u003cth\u003epx_4\u003c/th\u003e\n      \u003cth\u003epx_5\u003c/th\u003e\n      \u003cth\u003epx_6\u003c/th\u003e\n      \u003cth\u003epx_7\u003c/th\u003e\n      \u003cth\u003epx_8\u003c/th\u003e\n      \u003cth\u003epx_9\u003c/th\u003e\n      \u003cth\u003e...\u003c/th\u003e\n      \u003cth\u003epx_775\u003c/th\u003e\n      \u003cth\u003epx_776\u003c/th\u003e\n      \u003cth\u003epx_777\u003c/th\u003e\n      \u003cth\u003epx_778\u003c/th\u003e\n      \u003cth\u003epx_779\u003c/th\u003e\n      \u003cth\u003epx_780\u003c/th\u003e\n      \u003cth\u003epx_781\u003c/th\u003e\n      \u003cth\u003epx_782\u003c/th\u003e\n      \u003cth\u003epx_783\u003c/th\u003e\n      \u003cth\u003epx_784\u003c/th\u003e\n    \u003c/tr\u003e\n  \u003c/thead\u003e\n  \u003ctbody\u003e\n    \u003ctr\u003e\n      \u003cth\u003e0\u003c/th\u003e\n      \u003ctd\u003e5\u003c/td\u003e\n      \u003ctd\u003e0\u003c/td\u003e\n      \u003ctd\u003e0\u003c/td\u003e\n      \u003ctd\u003e0\u003c/td\u003e\n      \u003ctd\u003e0\u003c/td\u003e\n      \u003ctd\u003e0\u003c/td\u003e\n      \u003ctd\u003e0\u003c/td\u003e\n      \u003ctd\u003e0\u003c/td\u003e\n      \u003ctd\u003e0\u003c/td\u003e\n      \u003ctd\u003e0\u003c/td\u003e\n      \u003ctd\u003e...\u003c/td\u003e\n      \u003ctd\u003e0\u003c/td\u003e\n      \u003ctd\u003e0\u003c/td\u003e\n      \u003ctd\u003e0\u003c/td\u003e\n      \u003ctd\u003e0\u003c/td\u003e\n      \u003ctd\u003e0\u003c/td\u003e\n      \u003ctd\u003e0\u003c/td\u003e\n      \u003ctd\u003e0\u003c/td\u003e\n      \u003ctd\u003e0\u003c/td\u003e\n      \u003ctd\u003e0\u003c/td\u003e\n      \u003ctd\u003e0\u003c/td\u003e\n    \u003c/tr\u003e\n    \u003ctr\u003e\n      \u003cth\u003e1\u003c/th\u003e\n      \u003ctd\u003e0\u003c/td\u003e\n      \u003ctd\u003e0\u003c/td\u003e\n      \u003ctd\u003e0\u003c/td\u003e\n      \u003ctd\u003e0\u003c/td\u003e\n      \u003ctd\u003e0\u003c/td\u003e\n      \u003ctd\u003e0\u003c/td\u003e\n      \u003ctd\u003e0\u003c/td\u003e\n      \u003ctd\u003e0\u003c/td\u003e\n      \u003ctd\u003e0\u003c/td\u003e\n      \u003ctd\u003e0\u003c/td\u003e\n      \u003ctd\u003e...\u003c/td\u003e\n      \u003ctd\u003e0\u003c/td\u003e\n      \u003ctd\u003e0\u003c/td\u003e\n      \u003ctd\u003e0\u003c/td\u003e\n      \u003ctd\u003e0\u003c/td\u003e\n      \u003ctd\u003e0\u003c/td\u003e\n      \u003ctd\u003e0\u003c/td\u003e\n      \u003ctd\u003e0\u003c/td\u003e\n      \u003ctd\u003e0\u003c/td\u003e\n      \u003ctd\u003e0\u003c/td\u003e\n      \u003ctd\u003e0\u003c/td\u003e\n    \u003c/tr\u003e\n    \u003ctr\u003e\n      \u003cth\u003e2\u003c/th\u003e\n      \u003ctd\u003e4\u003c/td\u003e\n      \u003ctd\u003e0\u003c/td\u003e\n      \u003ctd\u003e0\u003c/td\u003e\n      \u003ctd\u003e0\u003c/td\u003e\n      \u003ctd\u003e0\u003c/td\u003e\n      \u003ctd\u003e0\u003c/td\u003e\n      \u003ctd\u003e0\u003c/td\u003e\n      \u003ctd\u003e0\u003c/td\u003e\n      \u003ctd\u003e0\u003c/td\u003e\n      \u003ctd\u003e0\u003c/td\u003e\n      \u003ctd\u003e...\u003c/td\u003e\n      \u003ctd\u003e0\u003c/td\u003e\n      \u003ctd\u003e0\u003c/td\u003e\n      \u003ctd\u003e0\u003c/td\u003e\n      \u003ctd\u003e0\u003c/td\u003e\n      \u003ctd\u003e0\u003c/td\u003e\n      \u003ctd\u003e0\u003c/td\u003e\n      \u003ctd\u003e0\u003c/td\u003e\n      \u003ctd\u003e0\u003c/td\u003e\n      \u003ctd\u003e0\u003c/td\u003e\n      \u003ctd\u003e0\u003c/td\u003e\n    \u003c/tr\u003e\n    \u003ctr\u003e\n      \u003cth\u003e3\u003c/th\u003e\n      \u003ctd\u003e1\u003c/td\u003e\n      \u003ctd\u003e0\u003c/td\u003e\n      \u003ctd\u003e0\u003c/td\u003e\n      \u003ctd\u003e0\u003c/td\u003e\n      \u003ctd\u003e0\u003c/td\u003e\n      \u003ctd\u003e0\u003c/td\u003e\n      \u003ctd\u003e0\u003c/td\u003e\n      \u003ctd\u003e0\u003c/td\u003e\n      \u003ctd\u003e0\u003c/td\u003e\n      \u003ctd\u003e0\u003c/td\u003e\n      \u003ctd\u003e...\u003c/td\u003e\n      \u003ctd\u003e0\u003c/td\u003e\n      \u003ctd\u003e0\u003c/td\u003e\n      \u003ctd\u003e0\u003c/td\u003e\n      \u003ctd\u003e0\u003c/td\u003e\n      \u003ctd\u003e0\u003c/td\u003e\n      \u003ctd\u003e0\u003c/td\u003e\n      \u003ctd\u003e0\u003c/td\u003e\n      \u003ctd\u003e0\u003c/td\u003e\n      \u003ctd\u003e0\u003c/td\u003e\n      \u003ctd\u003e0\u003c/td\u003e\n    \u003c/tr\u003e\n    \u003ctr\u003e\n      \u003cth\u003e4\u003c/th\u003e\n      \u003ctd\u003e9\u003c/td\u003e\n      \u003ctd\u003e0\u003c/td\u003e\n      \u003ctd\u003e0\u003c/td\u003e\n      \u003ctd\u003e0\u003c/td\u003e\n      \u003ctd\u003e0\u003c/td\u003e\n      \u003ctd\u003e0\u003c/td\u003e\n      \u003ctd\u003e0\u003c/td\u003e\n      \u003ctd\u003e0\u003c/td\u003e\n      \u003ctd\u003e0\u003c/td\u003e\n      \u003ctd\u003e0\u003c/td\u003e\n      \u003ctd\u003e...\u003c/td\u003e\n      \u003ctd\u003e0\u003c/td\u003e\n      \u003ctd\u003e0\u003c/td\u003e\n      \u003ctd\u003e0\u003c/td\u003e\n      \u003ctd\u003e0\u003c/td\u003e\n      \u003ctd\u003e0\u003c/td\u003e\n      \u003ctd\u003e0\u003c/td\u003e\n      \u003ctd\u003e0\u003c/td\u003e\n      \u003ctd\u003e0\u003c/td\u003e\n      \u003ctd\u003e0\u003c/td\u003e\n      \u003ctd\u003e0\u003c/td\u003e\n    \u003c/tr\u003e\n  \u003c/tbody\u003e\n\u003c/table\u003e\n\u003cp\u003e5 rows × 785 columns\u003c/p\u003e\n\u003c/div\u003e"
          },
          "metadata": {},
          "output_type": "execute_result",
          "execution_count": 10
        }
      ],
      "source": "mnist_train.head(5)",
      "metadata": {
        "pycharm": {
          "metadata": false,
          "name": "#%%\n",
          "is_executing": false
        }
      }
    },
    {
      "cell_type": "code",
      "execution_count": 11,
      "outputs": [],
      "source": "image_row \u003d mnist_train.values[10, 1:]",
      "metadata": {
        "pycharm": {
          "metadata": false,
          "name": "#%%\n",
          "is_executing": false
        }
      }
    },
    {
      "cell_type": "code",
      "execution_count": 12,
      "outputs": [
        {
          "data": {
            "text/plain": "(784,)"
          },
          "metadata": {},
          "output_type": "execute_result",
          "execution_count": 12
        }
      ],
      "source": "image_row.shape",
      "metadata": {
        "pycharm": {
          "metadata": false,
          "name": "#%%\n",
          "is_executing": false
        }
      }
    },
    {
      "cell_type": "code",
      "execution_count": 13,
      "outputs": [],
      "source": "image \u003d image_row.reshape(28, 28)",
      "metadata": {
        "pycharm": {
          "metadata": false,
          "name": "#%%\n",
          "is_executing": false
        }
      }
    },
    {
      "cell_type": "code",
      "execution_count": 14,
      "outputs": [
        {
          "data": {
            "text/plain": "(28, 28)"
          },
          "metadata": {},
          "output_type": "execute_result",
          "execution_count": 14
        }
      ],
      "source": "image.shape",
      "metadata": {
        "pycharm": {
          "metadata": false,
          "name": "#%%\n",
          "is_executing": false
        }
      }
    },
    {
      "cell_type": "code",
      "execution_count": 15,
      "outputs": [
        {
          "data": {
            "text/plain": "\u003cmatplotlib.image.AxesImage at 0x2460cd52588\u003e"
          },
          "metadata": {},
          "output_type": "execute_result",
          "execution_count": 15
        },
        {
          "data": {
            "text/plain": "\u003cFigure size 432x288 with 1 Axes\u003e",
            "image/png": "[encoded data removed]"
          },
          "metadata": {
            "needs_background": "light"
          },
          "output_type": "display_data"
        }
      ],
      "source": "plt.imshow(image, cmap\u003d\"Greys\")",
      "metadata": {
        "pycharm": {
          "metadata": false,
          "name": "#%%\n",
          "is_executing": false
        }
      }
    },
    {
      "cell_type": "code",
      "execution_count": 16,
      "outputs": [],
      "source": "# Nearest neighbors",
      "metadata": {
        "pycharm": {
          "metadata": false,
          "name": "#%%\n",
          "is_executing": false
        }
      }
    },
    {
      "cell_type": "code",
      "execution_count": 17,
      "outputs": [],
      "source": "from sklearn.neighbors import KNeighborsClassifier",
      "metadata": {
        "pycharm": {
          "metadata": false,
          "name": "#%%\n",
          "is_executing": false
        }
      }
    },
    {
      "cell_type": "code",
      "execution_count": 18,
      "outputs": [],
      "source": "train_data \u003d mnist_train.values[:, 1:]\ntest_data \u003d mnist_test.values[:, 1:]",
      "metadata": {
        "pycharm": {
          "metadata": false,
          "name": "#%%\n",
          "is_executing": false
        }
      }
    },
    {
      "cell_type": "code",
      "execution_count": 19,
      "outputs": [],
      "source": "train_label \u003d mnist_train.values[:, 0]\ntest_label \u003d mnist_test.values[:, 0]",
      "metadata": {
        "pycharm": {
          "metadata": false,
          "name": "#%%\n",
          "is_executing": false
        }
      }
    },
    {
      "cell_type": "code",
      "execution_count": 20,
      "outputs": [
        {
          "name": "stdout",
          "text": [
            "(60000, 784) (10000, 784)\n"
          ],
          "output_type": "stream"
        }
      ],
      "source": "print(train_data.shape, test_data.shape)",
      "metadata": {
        "pycharm": {
          "metadata": false,
          "name": "#%%\n",
          "is_executing": false
        }
      }
    },
    {
      "cell_type": "code",
      "execution_count": 21,
      "outputs": [
        {
          "name": "stdout",
          "text": [
            "(60000,) (10000,)\n"
          ],
          "output_type": "stream"
        }
      ],
      "source": "print(train_label.shape, test_label.shape)",
      "metadata": {
        "pycharm": {
          "metadata": false,
          "name": "#%%\n",
          "is_executing": false
        }
      }
    },
    {
      "cell_type": "code",
      "execution_count": 21,
      "outputs": [],
      "source": "",
      "metadata": {
        "pycharm": {
          "metadata": false,
          "name": "#%%\n",
          "is_executing": false
        }
      }
    },
    {
      "cell_type": "code",
      "execution_count": 22,
      "outputs": [],
      "source": "kn_classifier \u003d KNeighborsClassifier(n_jobs\u003d-1)",
      "metadata": {
        "pycharm": {
          "metadata": false,
          "name": "#%%\n",
          "is_executing": false
        }
      }
    },
    {
      "cell_type": "code",
      "execution_count": 23,
      "outputs": [],
      "source": "kn_classifier \u003d kn_classifier.fit(train_data, train_label)",
      "metadata": {
        "pycharm": {
          "metadata": false,
          "name": "#%%\n",
          "is_executing": false
        }
      }
    },
    {
      "cell_type": "code",
      "execution_count": 23,
      "outputs": [],
      "source": "",
      "metadata": {
        "pycharm": {
          "metadata": false,
          "name": "#%%\n",
          "is_executing": false
        }
      }
    },
    {
      "cell_type": "code",
      "execution_count": 24,
      "outputs": [
        {
          "name": "stdout",
          "text": [
            "На рисунке представлена цифра 6:\n"
          ],
          "output_type": "stream"
        },
        {
          "data": {
            "text/plain": "\u003cFigure size 432x288 with 1 Axes\u003e",
            "image/png": "[encoded data removed]"
          },
          "metadata": {
            "needs_background": "light"
          },
          "output_type": "display_data"
        }
      ],
      "source": "test_id \u003d 100\nplt.imshow(test_data[test_id, :].reshape(28, 28), cmap\u003d\"Greys\")\nprint(f\"На рисунке представлена цифра {test_label[test_id]}:\")",
      "metadata": {
        "pycharm": {
          "metadata": false,
          "name": "#%%\n",
          "is_executing": false
        }
      }
    },
    {
      "cell_type": "code",
      "execution_count": 25,
      "outputs": [
        {
          "data": {
            "text/plain": "array([6], dtype\u003dint64)"
          },
          "metadata": {},
          "output_type": "execute_result",
          "execution_count": 25
        }
      ],
      "source": "kn_classifier.predict(test_data[test_id, :].reshape(1, 784))",
      "metadata": {
        "pycharm": {
          "metadata": false,
          "name": "#%%\n",
          "is_executing": false
        }
      }
    },
    {
      "cell_type": "code",
      "execution_count": 26,
      "outputs": [],
      "source": "from sklearn.metrics import accuracy_score",
      "metadata": {
        "pycharm": {
          "metadata": false,
          "name": "#%%\n",
          "is_executing": false
        }
      }
    },
    {
      "cell_type": "code",
      "execution_count": 27,
      "outputs": [],
      "source": "kn_predictions \u003d kn_classifier.predict(test_data)",
      "metadata": {
        "pycharm": {
          "metadata": false,
          "name": "#%%\n",
          "is_executing": false
        }
      }
    },
    {
      "cell_type": "code",
      "execution_count": 28,
      "outputs": [
        {
          "name": "stdout",
          "text": [
            "Accuracy percent: 96.88%\n"
          ],
          "output_type": "stream"
        }
      ],
      "source": "kn_accuracy \u003d accuracy_score(test_label, kn_predictions)\nprint(f\"Accuracy percent: {kn_accuracy * 100:.2f}%\")",
      "metadata": {
        "pycharm": {
          "metadata": false,
          "name": "#%%\n",
          "is_executing": false
        }
      }
    },
    {
      "cell_type": "code",
      "execution_count": 28,
      "outputs": [],
      "source": "",
      "metadata": {
        "pycharm": {
          "metadata": false,
          "name": "#%%\n",
          "is_executing": false
        }
      }
    },
    {
      "cell_type": "code",
      "execution_count": 29,
      "outputs": [],
      "source": "# Neural network",
      "metadata": {
        "pycharm": {
          "metadata": false,
          "name": "#%%\n",
          "is_executing": false
        }
      }
    },
    {
      "cell_type": "code",
      "execution_count": 30,
      "outputs": [],
      "source": "from sklearn.neural_network import MLPClassifier",
      "metadata": {
        "pycharm": {
          "metadata": false,
          "name": "#%%\n",
          "is_executing": false
        }
      }
    },
    {
      "cell_type": "code",
      "execution_count": 31,
      "outputs": [],
      "source": "mlp_classifier \u003d MLPClassifier(verbose\u003dTrue, n_iter_no_change\u003d30, hidden_layer_sizes\u003d(200,))",
      "metadata": {
        "pycharm": {
          "metadata": false,
          "name": "#%%\n",
          "is_executing": false
        }
      }
    },
    {
      "cell_type": "code",
      "execution_count": 32,
      "outputs": [
        {
          "name": "stdout",
          "text": [
            "Iteration 1, loss \u003d 1.98479739\n",
            "Iteration 2, loss \u003d 0.77762129\n",
            "Iteration 3, loss \u003d 0.47453860\n",
            "Iteration 4, loss \u003d 0.33355603\n",
            "Iteration 5, loss \u003d 0.23379547\n",
            "Iteration 6, loss \u003d 0.19154466\n",
            "Iteration 7, loss \u003d 0.14943881\n",
            "Iteration 8, loss \u003d 0.14099369\n",
            "Iteration 9, loss \u003d 0.13651050\n",
            "Iteration 10, loss \u003d 0.13770977\n",
            "Iteration 11, loss \u003d 0.12867459\n",
            "Iteration 12, loss \u003d 0.12490781\n",
            "Iteration 13, loss \u003d 0.12792997\n",
            "Iteration 14, loss \u003d 0.10275575\n",
            "Iteration 15, loss \u003d 0.09927886\n",
            "Iteration 16, loss \u003d 0.11408883\n",
            "Iteration 17, loss \u003d 0.11824554\n",
            "Iteration 18, loss \u003d 0.10222565\n",
            "Iteration 19, loss \u003d 0.09714878\n",
            "Iteration 20, loss \u003d 0.08684315\n",
            "Iteration 21, loss \u003d 0.09438737\n",
            "Iteration 22, loss \u003d 0.07439532\n",
            "Iteration 23, loss \u003d 0.10883305\n",
            "Iteration 24, loss \u003d 0.11437237\n",
            "Iteration 25, loss \u003d 0.09336390\n",
            "Iteration 26, loss \u003d 0.07527308\n",
            "Iteration 27, loss \u003d 0.07760644\n",
            "Iteration 28, loss \u003d 0.09514355\n",
            "Iteration 29, loss \u003d 0.08680963\n",
            "Iteration 30, loss \u003d 0.08264559\n",
            "Iteration 31, loss \u003d 0.07766161\n",
            "Iteration 32, loss \u003d 0.07104048\n",
            "Iteration 33, loss \u003d 0.06825540\n",
            "Iteration 34, loss \u003d 0.07874963\n",
            "Iteration 35, loss \u003d 0.08200010\n",
            "Iteration 36, loss \u003d 0.07103341\n",
            "Iteration 37, loss \u003d 0.06234557\n",
            "Iteration 38, loss \u003d 0.06736336\n",
            "Iteration 39, loss \u003d 0.06063759\n",
            "Iteration 40, loss \u003d 0.05876163\n",
            "Iteration 41, loss \u003d 0.06145103\n",
            "Iteration 42, loss \u003d 0.06185463\n",
            "Iteration 43, loss \u003d 0.06160035\n",
            "Iteration 44, loss \u003d 0.07732174\n",
            "Iteration 45, loss \u003d 0.06541878\n",
            "Iteration 46, loss \u003d 0.05147182\n",
            "Iteration 47, loss \u003d 0.06557317\n",
            "Iteration 48, loss \u003d 0.05795162\n",
            "Iteration 49, loss \u003d 0.07149490\n",
            "Iteration 50, loss \u003d 0.06273155\n",
            "Iteration 51, loss \u003d 0.04388834\n",
            "Iteration 52, loss \u003d 0.05997509\n",
            "Iteration 53, loss \u003d 0.05060644\n",
            "Iteration 54, loss \u003d 0.03623764\n",
            "Iteration 55, loss \u003d 0.04914142\n",
            "Iteration 56, loss \u003d 0.05200345\n",
            "Iteration 57, loss \u003d 0.08311187\n",
            "Iteration 58, loss \u003d 0.05398993\n",
            "Iteration 59, loss \u003d 0.05581721\n",
            "Iteration 60, loss \u003d 0.05439796\n",
            "Iteration 61, loss \u003d 0.03857855\n",
            "Iteration 62, loss \u003d 0.03731826\n",
            "Iteration 63, loss \u003d 0.04595453\n",
            "Iteration 64, loss \u003d 0.03188846\n",
            "Iteration 65, loss \u003d 0.05921718\n",
            "Iteration 66, loss \u003d 0.05368772\n",
            "Iteration 67, loss \u003d 0.03908143\n",
            "Iteration 68, loss \u003d 0.03897214\n",
            "Iteration 69, loss \u003d 0.03909810\n",
            "Iteration 70, loss \u003d 0.04845771\n",
            "Iteration 71, loss \u003d 0.04438005\n",
            "Iteration 72, loss \u003d 0.05353329\n",
            "Iteration 73, loss \u003d 0.04869461\n",
            "Iteration 74, loss \u003d 0.05052526\n",
            "Iteration 75, loss \u003d 0.03380258\n",
            "Iteration 76, loss \u003d 0.02110996\n",
            "Iteration 77, loss \u003d 0.04302685\n",
            "Iteration 78, loss \u003d 0.04641883\n",
            "Iteration 79, loss \u003d 0.03755042\n",
            "Iteration 80, loss \u003d 0.03535319\n",
            "Iteration 81, loss \u003d 0.04734863\n",
            "Iteration 82, loss \u003d 0.03219802\n",
            "Iteration 83, loss \u003d 0.05192484\n",
            "Iteration 84, loss \u003d 0.03858401\n",
            "Iteration 85, loss \u003d 0.04441855\n",
            "Iteration 86, loss \u003d 0.03613292\n",
            "Iteration 87, loss \u003d 0.03893879\n",
            "Iteration 88, loss \u003d 0.02731468\n",
            "Iteration 89, loss \u003d 0.02332762\n",
            "Iteration 90, loss \u003d 0.04267492\n",
            "Iteration 91, loss \u003d 0.03920111\n",
            "Iteration 92, loss \u003d 0.04524389\n",
            "Iteration 93, loss \u003d 0.04197317\n",
            "Iteration 94, loss \u003d 0.03496928\n",
            "Iteration 95, loss \u003d 0.03172391\n",
            "Iteration 96, loss \u003d 0.02488278\n",
            "Iteration 97, loss \u003d 0.03140348\n",
            "Iteration 98, loss \u003d 0.02219067\n",
            "Iteration 99, loss \u003d 0.03406043\n",
            "Iteration 100, loss \u003d 0.04017066\n",
            "Iteration 101, loss \u003d 0.04018632\n",
            "Iteration 102, loss \u003d 0.03832699\n",
            "Iteration 103, loss \u003d 0.03709249\n",
            "Iteration 104, loss \u003d 0.03911234\n",
            "Iteration 105, loss \u003d 0.02595147\n",
            "Iteration 106, loss \u003d 0.02048604\n",
            "Iteration 107, loss \u003d 0.03212618\n",
            "Iteration 108, loss \u003d 0.03130457\n",
            "Iteration 109, loss \u003d 0.02911555\n",
            "Iteration 110, loss \u003d 0.03000861\n",
            "Iteration 111, loss \u003d 0.03791001\n",
            "Iteration 112, loss \u003d 0.03320800\n",
            "Iteration 113, loss \u003d 0.03660153\n",
            "Iteration 114, loss \u003d 0.03524099\n",
            "Iteration 115, loss \u003d 0.02696963\n",
            "Iteration 116, loss \u003d 0.02967987\n",
            "Iteration 117, loss \u003d 0.03920448\n",
            "Iteration 118, loss \u003d 0.03716753\n",
            "Iteration 119, loss \u003d 0.02822695\n",
            "Iteration 120, loss \u003d 0.02186765\n",
            "Iteration 121, loss \u003d 0.03608994\n",
            "Iteration 122, loss \u003d 0.02797848\n",
            "Iteration 123, loss \u003d 0.02177984\n",
            "Iteration 124, loss \u003d 0.01785011\n",
            "Iteration 125, loss \u003d 0.02113765\n",
            "Iteration 126, loss \u003d 0.02277492\n",
            "Iteration 127, loss \u003d 0.02632850\n",
            "Iteration 128, loss \u003d 0.03564051\n",
            "Iteration 129, loss \u003d 0.02934667\n",
            "Iteration 130, loss \u003d 0.03736191\n",
            "Iteration 131, loss \u003d 0.02268106\n",
            "Iteration 132, loss \u003d 0.03498899\n",
            "Iteration 133, loss \u003d 0.02541530\n",
            "Iteration 134, loss \u003d 0.00950308\n",
            "Iteration 135, loss \u003d 0.01874859\n",
            "Iteration 136, loss \u003d 0.03278247\n",
            "Iteration 137, loss \u003d 0.02087697\n",
            "Iteration 138, loss \u003d 0.02790517\n",
            "Iteration 139, loss \u003d 0.01722604\n",
            "Iteration 140, loss \u003d 0.02609311\n",
            "Iteration 141, loss \u003d 0.01947115\n",
            "Iteration 142, loss \u003d 0.02419278\n",
            "Iteration 143, loss \u003d 0.03821247\n",
            "Iteration 144, loss \u003d 0.02324955\n",
            "Iteration 145, loss \u003d 0.02647230\n",
            "Iteration 146, loss \u003d 0.01809684\n",
            "Iteration 147, loss \u003d 0.02558583\n",
            "Iteration 148, loss \u003d 0.02220393\n",
            "Iteration 149, loss \u003d 0.03042835\n",
            "Iteration 150, loss \u003d 0.03127636\n",
            "Iteration 151, loss \u003d 0.02635211\n",
            "Iteration 152, loss \u003d 0.02913411\n",
            "Iteration 153, loss \u003d 0.02728026\n",
            "Iteration 154, loss \u003d 0.02297672\n",
            "Iteration 155, loss \u003d 0.02770473\n",
            "Iteration 156, loss \u003d 0.02477222\n",
            "Iteration 157, loss \u003d 0.03167661\n",
            "Iteration 158, loss \u003d 0.01782153\n",
            "Iteration 159, loss \u003d 0.01193106\n",
            "Iteration 160, loss \u003d 0.01297316\n",
            "Iteration 161, loss \u003d 0.01879630\n",
            "Iteration 162, loss \u003d 0.03132793\n",
            "Iteration 163, loss \u003d 0.03201362\n",
            "Iteration 164, loss \u003d 0.02826297\n",
            "Iteration 165, loss \u003d 0.02424382\nTraining loss did not improve more than tol\u003d0.000100 for 30 consecutive epochs. Stopping.\n"
          ],
          "output_type": "stream"
        }
      ],
      "source": "mlp_classifier \u003d mlp_classifier.fit(train_data, train_label)",
      "metadata": {
        "pycharm": {
          "metadata": false,
          "name": "#%%\n",
          "is_executing": false
        }
      }
    },
    {
      "cell_type": "code",
      "execution_count": 32,
      "outputs": [],
      "source": "",
      "metadata": {
        "pycharm": {
          "metadata": false,
          "name": "#%%\n",
          "is_executing": false
        }
      }
    },
    {
      "cell_type": "code",
      "execution_count": 33,
      "outputs": [
        {
          "name": "stdout",
          "text": [
            "На рисунке представлена цифра 9:\n"
          ],
          "output_type": "stream"
        },
        {
          "data": {
            "text/plain": "\u003cFigure size 432x288 with 1 Axes\u003e",
            "image/png": "[encoded data removed]"
          },
          "metadata": {
            "needs_background": "light"
          },
          "output_type": "display_data"
        }
      ],
      "source": "test_id \u003d 874\nplt.imshow(test_data[test_id, :].reshape(28, 28), cmap\u003d\"Greys\")\nprint(f\"На рисунке представлена цифра {test_label[test_id]}:\")",
      "metadata": {
        "pycharm": {
          "metadata": false,
          "name": "#%%\n",
          "is_executing": false
        }
      }
    },
    {
      "cell_type": "code",
      "execution_count": 34,
      "outputs": [
        {
          "data": {
            "text/plain": "array([9], dtype\u003dint64)"
          },
          "metadata": {},
          "output_type": "execute_result",
          "execution_count": 34
        }
      ],
      "source": "mlp_classifier.predict(test_data[test_id, :].reshape(1, 784))",
      "metadata": {
        "pycharm": {
          "metadata": false,
          "name": "#%%\n",
          "is_executing": false
        }
      }
    },
    {
      "cell_type": "code",
      "execution_count": 35,
      "outputs": [],
      "source": "mlp_predictions \u003d mlp_classifier.predict(test_data)",
      "metadata": {
        "pycharm": {
          "metadata": false,
          "name": "#%%\n",
          "is_executing": false
        }
      }
    },
    {
      "cell_type": "code",
      "execution_count": 36,
      "outputs": [
        {
          "name": "stdout",
          "text": [
            "Accuracy percent: 97.65%\n"
          ],
          "output_type": "stream"
        }
      ],
      "source": "mlp_accuracy \u003d accuracy_score(test_label, mlp_predictions)\nprint(f\"Accuracy percent: {mlp_accuracy * 100:.2f}%\")",
      "metadata": {
        "pycharm": {
          "metadata": false,
          "name": "#%%\n",
          "is_executing": false
        }
      }
    },
    {
      "cell_type": "code",
      "execution_count": 36,
      "outputs": [],
      "source": "",
      "metadata": {
        "pycharm": {
          "metadata": false,
          "name": "#%%\n",
          "is_executing": false
        }
      }
    },
    {
      "cell_type": "code",
      "execution_count": 36,
      "outputs": [],
      "source": "",
      "metadata": {
        "pycharm": {
          "metadata": false,
          "name": "#%%\n",
          "is_executing": false
        }
      }
    },
    {
      "cell_type": "code",
      "execution_count": 36,
      "outputs": [],
      "source": "",
      "metadata": {
        "pycharm": {
          "metadata": false,
          "name": "#%%\n",
          "is_executing": false
        }
      }
    },
    {
      "cell_type": "code",
      "execution_count": 36,
      "outputs": [],
      "source": "",
      "metadata": {
        "pycharm": {
          "metadata": false,
          "name": "#%%\n",
          "is_executing": false
        }
      }
    },
    {
      "cell_type": "code",
      "execution_count": 36,
      "outputs": [],
      "source": "",
      "metadata": {
        "pycharm": {
          "metadata": false,
          "name": "#%%\n",
          "is_executing": false
        }
      }
    },
    {
      "cell_type": "code",
      "execution_count": 36,
      "outputs": [],
      "source": "",
      "metadata": {
        "pycharm": {
          "metadata": false,
          "name": "#%%\n",
          "is_executing": false
        }
      }
    },
    {
      "cell_type": "code",
      "execution_count": null,
      "outputs": [],
      "source": "\n",
      "metadata": {
        "pycharm": {
          "metadata": false,
          "name": "#%%\n"
        }
      }
    }
  ],
  "metadata": {
    "kernelspec": {
      "display_name": "Python 3",
      "language": "python",
      "name": "python3"
    },
    "language_info": {
      "codemirror_mode": {
        "name": "ipython",
        "version": 3
      },
      "file_extension": ".py",
      "mimetype": "text/x-python",
      "name": "python",
      "nbconvert_exporter": "python",
      "pygments_lexer": "ipython3",
      "version": "3.7.3"
    },
    "stem_cell": {
      "cell_type": "raw",
      "source": "",
      "metadata": {
        "pycharm": {
          "metadata": false
        }
      }
    }
  },
  "nbformat": 4,
  "nbformat_minor": 2
}
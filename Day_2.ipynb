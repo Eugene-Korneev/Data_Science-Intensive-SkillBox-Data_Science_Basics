{
 "cells": [
  {
   "cell_type": "code",
   "execution_count": 1,
   "metadata": {},
   "outputs": [],
   "source": [
    "# Data_sets:\n",
    "# https://pjreddie.com/media/files/mnist_train.csv\n",
    "# https://pjreddie.com/media/files/mnist_test.csv"
   ]
  },
  {
   "cell_type": "code",
   "execution_count": 2,
   "metadata": {},
   "outputs": [],
   "source": [
    "import numpy as np\n",
    "import pandas as pd\n",
    "from matplotlib import pyplot as plt"
   ]
  },
  {
   "cell_type": "code",
   "execution_count": 3,
   "metadata": {},
   "outputs": [],
   "source": [
    "mnist_train = pd.read_csv(\"./data_sets/mnist_train.csv\", header=None)\n",
    "mnist_test = pd.read_csv(\"./data_sets/mnist_test.csv\", header=None)"
   ]
  },
  {
   "cell_type": "code",
   "execution_count": 4,
   "metadata": {},
   "outputs": [
    {
     "data": {
      "text/plain": [
       "(60000, 785)"
      ]
     },
     "execution_count": 4,
     "metadata": {},
     "output_type": "execute_result"
    }
   ],
   "source": [
    "mnist_train.shape"
   ]
  },
  {
   "cell_type": "code",
   "execution_count": 5,
   "metadata": {},
   "outputs": [
    {
     "data": {
      "text/plain": [
       "(10000, 785)"
      ]
     },
     "execution_count": 5,
     "metadata": {},
     "output_type": "execute_result"
    }
   ],
   "source": [
    "mnist_test.shape"
   ]
  },
  {
   "cell_type": "code",
   "execution_count": 6,
   "metadata": {},
   "outputs": [
    {
     "data": {
      "text/html": [
       "<div>\n",
       "<style scoped>\n",
       "    .dataframe tbody tr th:only-of-type {\n",
       "        vertical-align: middle;\n",
       "    }\n",
       "\n",
       "    .dataframe tbody tr th {\n",
       "        vertical-align: top;\n",
       "    }\n",
       "\n",
       "    .dataframe thead th {\n",
       "        text-align: right;\n",
       "    }\n",
       "</style>\n",
       "<table border=\"1\" class=\"dataframe\">\n",
       "  <thead>\n",
       "    <tr style=\"text-align: right;\">\n",
       "      <th></th>\n",
       "      <th>0</th>\n",
       "      <th>1</th>\n",
       "      <th>2</th>\n",
       "      <th>3</th>\n",
       "      <th>4</th>\n",
       "      <th>5</th>\n",
       "      <th>6</th>\n",
       "      <th>7</th>\n",
       "      <th>8</th>\n",
       "      <th>9</th>\n",
       "      <th>...</th>\n",
       "      <th>775</th>\n",
       "      <th>776</th>\n",
       "      <th>777</th>\n",
       "      <th>778</th>\n",
       "      <th>779</th>\n",
       "      <th>780</th>\n",
       "      <th>781</th>\n",
       "      <th>782</th>\n",
       "      <th>783</th>\n",
       "      <th>784</th>\n",
       "    </tr>\n",
       "  </thead>\n",
       "  <tbody>\n",
       "    <tr>\n",
       "      <th>0</th>\n",
       "      <td>5</td>\n",
       "      <td>0</td>\n",
       "      <td>0</td>\n",
       "      <td>0</td>\n",
       "      <td>0</td>\n",
       "      <td>0</td>\n",
       "      <td>0</td>\n",
       "      <td>0</td>\n",
       "      <td>0</td>\n",
       "      <td>0</td>\n",
       "      <td>...</td>\n",
       "      <td>0</td>\n",
       "      <td>0</td>\n",
       "      <td>0</td>\n",
       "      <td>0</td>\n",
       "      <td>0</td>\n",
       "      <td>0</td>\n",
       "      <td>0</td>\n",
       "      <td>0</td>\n",
       "      <td>0</td>\n",
       "      <td>0</td>\n",
       "    </tr>\n",
       "    <tr>\n",
       "      <th>1</th>\n",
       "      <td>0</td>\n",
       "      <td>0</td>\n",
       "      <td>0</td>\n",
       "      <td>0</td>\n",
       "      <td>0</td>\n",
       "      <td>0</td>\n",
       "      <td>0</td>\n",
       "      <td>0</td>\n",
       "      <td>0</td>\n",
       "      <td>0</td>\n",
       "      <td>...</td>\n",
       "      <td>0</td>\n",
       "      <td>0</td>\n",
       "      <td>0</td>\n",
       "      <td>0</td>\n",
       "      <td>0</td>\n",
       "      <td>0</td>\n",
       "      <td>0</td>\n",
       "      <td>0</td>\n",
       "      <td>0</td>\n",
       "      <td>0</td>\n",
       "    </tr>\n",
       "    <tr>\n",
       "      <th>2</th>\n",
       "      <td>4</td>\n",
       "      <td>0</td>\n",
       "      <td>0</td>\n",
       "      <td>0</td>\n",
       "      <td>0</td>\n",
       "      <td>0</td>\n",
       "      <td>0</td>\n",
       "      <td>0</td>\n",
       "      <td>0</td>\n",
       "      <td>0</td>\n",
       "      <td>...</td>\n",
       "      <td>0</td>\n",
       "      <td>0</td>\n",
       "      <td>0</td>\n",
       "      <td>0</td>\n",
       "      <td>0</td>\n",
       "      <td>0</td>\n",
       "      <td>0</td>\n",
       "      <td>0</td>\n",
       "      <td>0</td>\n",
       "      <td>0</td>\n",
       "    </tr>\n",
       "    <tr>\n",
       "      <th>3</th>\n",
       "      <td>1</td>\n",
       "      <td>0</td>\n",
       "      <td>0</td>\n",
       "      <td>0</td>\n",
       "      <td>0</td>\n",
       "      <td>0</td>\n",
       "      <td>0</td>\n",
       "      <td>0</td>\n",
       "      <td>0</td>\n",
       "      <td>0</td>\n",
       "      <td>...</td>\n",
       "      <td>0</td>\n",
       "      <td>0</td>\n",
       "      <td>0</td>\n",
       "      <td>0</td>\n",
       "      <td>0</td>\n",
       "      <td>0</td>\n",
       "      <td>0</td>\n",
       "      <td>0</td>\n",
       "      <td>0</td>\n",
       "      <td>0</td>\n",
       "    </tr>\n",
       "    <tr>\n",
       "      <th>4</th>\n",
       "      <td>9</td>\n",
       "      <td>0</td>\n",
       "      <td>0</td>\n",
       "      <td>0</td>\n",
       "      <td>0</td>\n",
       "      <td>0</td>\n",
       "      <td>0</td>\n",
       "      <td>0</td>\n",
       "      <td>0</td>\n",
       "      <td>0</td>\n",
       "      <td>...</td>\n",
       "      <td>0</td>\n",
       "      <td>0</td>\n",
       "      <td>0</td>\n",
       "      <td>0</td>\n",
       "      <td>0</td>\n",
       "      <td>0</td>\n",
       "      <td>0</td>\n",
       "      <td>0</td>\n",
       "      <td>0</td>\n",
       "      <td>0</td>\n",
       "    </tr>\n",
       "  </tbody>\n",
       "</table>\n",
       "<p>5 rows × 785 columns</p>\n",
       "</div>"
      ],
      "text/plain": [
       "   0    1    2    3    4    5    6    7    8    9    ...  775  776  777  778  \\\n",
       "0    5    0    0    0    0    0    0    0    0    0  ...    0    0    0    0   \n",
       "1    0    0    0    0    0    0    0    0    0    0  ...    0    0    0    0   \n",
       "2    4    0    0    0    0    0    0    0    0    0  ...    0    0    0    0   \n",
       "3    1    0    0    0    0    0    0    0    0    0  ...    0    0    0    0   \n",
       "4    9    0    0    0    0    0    0    0    0    0  ...    0    0    0    0   \n",
       "\n",
       "   779  780  781  782  783  784  \n",
       "0    0    0    0    0    0    0  \n",
       "1    0    0    0    0    0    0  \n",
       "2    0    0    0    0    0    0  \n",
       "3    0    0    0    0    0    0  \n",
       "4    0    0    0    0    0    0  \n",
       "\n",
       "[5 rows x 785 columns]"
      ]
     },
     "execution_count": 6,
     "metadata": {},
     "output_type": "execute_result"
    }
   ],
   "source": [
    "mnist_train.head(5)"
   ]
  },
  {
   "cell_type": "code",
   "execution_count": 7,
   "metadata": {},
   "outputs": [],
   "source": [
    "cols = [\"label\"]\n",
    "for i in range(784):\n",
    "    cols.append(f\"px_{i + 1}\")"
   ]
  },
  {
   "cell_type": "code",
   "execution_count": 8,
   "metadata": {},
   "outputs": [
    {
     "name": "stdout",
     "output_type": "stream",
     "text": [
      "['label', 'px_1', 'px_2', 'px_3', 'px_4', 'px_5', 'px_6', 'px_7', 'px_8', 'px_9', 'px_10', 'px_11', 'px_12', 'px_13', 'px_14', 'px_15', 'px_16', 'px_17', 'px_18', 'px_19', 'px_20', 'px_21', 'px_22', 'px_23', 'px_24', 'px_25', 'px_26', 'px_27', 'px_28', 'px_29', 'px_30', 'px_31', 'px_32', 'px_33', 'px_34', 'px_35', 'px_36', 'px_37', 'px_38', 'px_39', 'px_40', 'px_41', 'px_42', 'px_43', 'px_44', 'px_45', 'px_46', 'px_47', 'px_48', 'px_49', 'px_50', 'px_51', 'px_52', 'px_53', 'px_54', 'px_55', 'px_56', 'px_57', 'px_58', 'px_59', 'px_60', 'px_61', 'px_62', 'px_63', 'px_64', 'px_65', 'px_66', 'px_67', 'px_68', 'px_69', 'px_70', 'px_71', 'px_72', 'px_73', 'px_74', 'px_75', 'px_76', 'px_77', 'px_78', 'px_79', 'px_80', 'px_81', 'px_82', 'px_83', 'px_84', 'px_85', 'px_86', 'px_87', 'px_88', 'px_89', 'px_90', 'px_91', 'px_92', 'px_93', 'px_94', 'px_95', 'px_96', 'px_97', 'px_98', 'px_99', 'px_100', 'px_101', 'px_102', 'px_103', 'px_104', 'px_105', 'px_106', 'px_107', 'px_108', 'px_109', 'px_110', 'px_111', 'px_112', 'px_113', 'px_114', 'px_115', 'px_116', 'px_117', 'px_118', 'px_119', 'px_120', 'px_121', 'px_122', 'px_123', 'px_124', 'px_125', 'px_126', 'px_127', 'px_128', 'px_129', 'px_130', 'px_131', 'px_132', 'px_133', 'px_134', 'px_135', 'px_136', 'px_137', 'px_138', 'px_139', 'px_140', 'px_141', 'px_142', 'px_143', 'px_144', 'px_145', 'px_146', 'px_147', 'px_148', 'px_149', 'px_150', 'px_151', 'px_152', 'px_153', 'px_154', 'px_155', 'px_156', 'px_157', 'px_158', 'px_159', 'px_160', 'px_161', 'px_162', 'px_163', 'px_164', 'px_165', 'px_166', 'px_167', 'px_168', 'px_169', 'px_170', 'px_171', 'px_172', 'px_173', 'px_174', 'px_175', 'px_176', 'px_177', 'px_178', 'px_179', 'px_180', 'px_181', 'px_182', 'px_183', 'px_184', 'px_185', 'px_186', 'px_187', 'px_188', 'px_189', 'px_190', 'px_191', 'px_192', 'px_193', 'px_194', 'px_195', 'px_196', 'px_197', 'px_198', 'px_199', 'px_200', 'px_201', 'px_202', 'px_203', 'px_204', 'px_205', 'px_206', 'px_207', 'px_208', 'px_209', 'px_210', 'px_211', 'px_212', 'px_213', 'px_214', 'px_215', 'px_216', 'px_217', 'px_218', 'px_219', 'px_220', 'px_221', 'px_222', 'px_223', 'px_224', 'px_225', 'px_226', 'px_227', 'px_228', 'px_229', 'px_230', 'px_231', 'px_232', 'px_233', 'px_234', 'px_235', 'px_236', 'px_237', 'px_238', 'px_239', 'px_240', 'px_241', 'px_242', 'px_243', 'px_244', 'px_245', 'px_246', 'px_247', 'px_248', 'px_249', 'px_250', 'px_251', 'px_252', 'px_253', 'px_254', 'px_255', 'px_256', 'px_257', 'px_258', 'px_259', 'px_260', 'px_261', 'px_262', 'px_263', 'px_264', 'px_265', 'px_266', 'px_267', 'px_268', 'px_269', 'px_270', 'px_271', 'px_272', 'px_273', 'px_274', 'px_275', 'px_276', 'px_277', 'px_278', 'px_279', 'px_280', 'px_281', 'px_282', 'px_283', 'px_284', 'px_285', 'px_286', 'px_287', 'px_288', 'px_289', 'px_290', 'px_291', 'px_292', 'px_293', 'px_294', 'px_295', 'px_296', 'px_297', 'px_298', 'px_299', 'px_300', 'px_301', 'px_302', 'px_303', 'px_304', 'px_305', 'px_306', 'px_307', 'px_308', 'px_309', 'px_310', 'px_311', 'px_312', 'px_313', 'px_314', 'px_315', 'px_316', 'px_317', 'px_318', 'px_319', 'px_320', 'px_321', 'px_322', 'px_323', 'px_324', 'px_325', 'px_326', 'px_327', 'px_328', 'px_329', 'px_330', 'px_331', 'px_332', 'px_333', 'px_334', 'px_335', 'px_336', 'px_337', 'px_338', 'px_339', 'px_340', 'px_341', 'px_342', 'px_343', 'px_344', 'px_345', 'px_346', 'px_347', 'px_348', 'px_349', 'px_350', 'px_351', 'px_352', 'px_353', 'px_354', 'px_355', 'px_356', 'px_357', 'px_358', 'px_359', 'px_360', 'px_361', 'px_362', 'px_363', 'px_364', 'px_365', 'px_366', 'px_367', 'px_368', 'px_369', 'px_370', 'px_371', 'px_372', 'px_373', 'px_374', 'px_375', 'px_376', 'px_377', 'px_378', 'px_379', 'px_380', 'px_381', 'px_382', 'px_383', 'px_384', 'px_385', 'px_386', 'px_387', 'px_388', 'px_389', 'px_390', 'px_391', 'px_392', 'px_393', 'px_394', 'px_395', 'px_396', 'px_397', 'px_398', 'px_399', 'px_400', 'px_401', 'px_402', 'px_403', 'px_404', 'px_405', 'px_406', 'px_407', 'px_408', 'px_409', 'px_410', 'px_411', 'px_412', 'px_413', 'px_414', 'px_415', 'px_416', 'px_417', 'px_418', 'px_419', 'px_420', 'px_421', 'px_422', 'px_423', 'px_424', 'px_425', 'px_426', 'px_427', 'px_428', 'px_429', 'px_430', 'px_431', 'px_432', 'px_433', 'px_434', 'px_435', 'px_436', 'px_437', 'px_438', 'px_439', 'px_440', 'px_441', 'px_442', 'px_443', 'px_444', 'px_445', 'px_446', 'px_447', 'px_448', 'px_449', 'px_450', 'px_451', 'px_452', 'px_453', 'px_454', 'px_455', 'px_456', 'px_457', 'px_458', 'px_459', 'px_460', 'px_461', 'px_462', 'px_463', 'px_464', 'px_465', 'px_466', 'px_467', 'px_468', 'px_469', 'px_470', 'px_471', 'px_472', 'px_473', 'px_474', 'px_475', 'px_476', 'px_477', 'px_478', 'px_479', 'px_480', 'px_481', 'px_482', 'px_483', 'px_484', 'px_485', 'px_486', 'px_487', 'px_488', 'px_489', 'px_490', 'px_491', 'px_492', 'px_493', 'px_494', 'px_495', 'px_496', 'px_497', 'px_498', 'px_499', 'px_500', 'px_501', 'px_502', 'px_503', 'px_504', 'px_505', 'px_506', 'px_507', 'px_508', 'px_509', 'px_510', 'px_511', 'px_512', 'px_513', 'px_514', 'px_515', 'px_516', 'px_517', 'px_518', 'px_519', 'px_520', 'px_521', 'px_522', 'px_523', 'px_524', 'px_525', 'px_526', 'px_527', 'px_528', 'px_529', 'px_530', 'px_531', 'px_532', 'px_533', 'px_534', 'px_535', 'px_536', 'px_537', 'px_538', 'px_539', 'px_540', 'px_541', 'px_542', 'px_543', 'px_544', 'px_545', 'px_546', 'px_547', 'px_548', 'px_549', 'px_550', 'px_551', 'px_552', 'px_553', 'px_554', 'px_555', 'px_556', 'px_557', 'px_558', 'px_559', 'px_560', 'px_561', 'px_562', 'px_563', 'px_564', 'px_565', 'px_566', 'px_567', 'px_568', 'px_569', 'px_570', 'px_571', 'px_572', 'px_573', 'px_574', 'px_575', 'px_576', 'px_577', 'px_578', 'px_579', 'px_580', 'px_581', 'px_582', 'px_583', 'px_584', 'px_585', 'px_586', 'px_587', 'px_588', 'px_589', 'px_590', 'px_591', 'px_592', 'px_593', 'px_594', 'px_595', 'px_596', 'px_597', 'px_598', 'px_599', 'px_600', 'px_601', 'px_602', 'px_603', 'px_604', 'px_605', 'px_606', 'px_607', 'px_608', 'px_609', 'px_610', 'px_611', 'px_612', 'px_613', 'px_614', 'px_615', 'px_616', 'px_617', 'px_618', 'px_619', 'px_620', 'px_621', 'px_622', 'px_623', 'px_624', 'px_625', 'px_626', 'px_627', 'px_628', 'px_629', 'px_630', 'px_631', 'px_632', 'px_633', 'px_634', 'px_635', 'px_636', 'px_637', 'px_638', 'px_639', 'px_640', 'px_641', 'px_642', 'px_643', 'px_644', 'px_645', 'px_646', 'px_647', 'px_648', 'px_649', 'px_650', 'px_651', 'px_652', 'px_653', 'px_654', 'px_655', 'px_656', 'px_657', 'px_658', 'px_659', 'px_660', 'px_661', 'px_662', 'px_663', 'px_664', 'px_665', 'px_666', 'px_667', 'px_668', 'px_669', 'px_670', 'px_671', 'px_672', 'px_673', 'px_674', 'px_675', 'px_676', 'px_677', 'px_678', 'px_679', 'px_680', 'px_681', 'px_682', 'px_683', 'px_684', 'px_685', 'px_686', 'px_687', 'px_688', 'px_689', 'px_690', 'px_691', 'px_692', 'px_693', 'px_694', 'px_695', 'px_696', 'px_697', 'px_698', 'px_699', 'px_700', 'px_701', 'px_702', 'px_703', 'px_704', 'px_705', 'px_706', 'px_707', 'px_708', 'px_709', 'px_710', 'px_711', 'px_712', 'px_713', 'px_714', 'px_715', 'px_716', 'px_717', 'px_718', 'px_719', 'px_720', 'px_721', 'px_722', 'px_723', 'px_724', 'px_725', 'px_726', 'px_727', 'px_728', 'px_729', 'px_730', 'px_731', 'px_732', 'px_733', 'px_734', 'px_735', 'px_736', 'px_737', 'px_738', 'px_739', 'px_740', 'px_741', 'px_742', 'px_743', 'px_744', 'px_745', 'px_746', 'px_747', 'px_748', 'px_749', 'px_750', 'px_751', 'px_752', 'px_753', 'px_754', 'px_755', 'px_756', 'px_757', 'px_758', 'px_759', 'px_760', 'px_761', 'px_762', 'px_763', 'px_764', 'px_765', 'px_766', 'px_767', 'px_768', 'px_769', 'px_770', 'px_771', 'px_772', 'px_773', 'px_774', 'px_775', 'px_776', 'px_777', 'px_778', 'px_779', 'px_780', 'px_781', 'px_782', 'px_783', 'px_784']\n"
     ]
    }
   ],
   "source": [
    "print(cols)"
   ]
  },
  {
   "cell_type": "code",
   "execution_count": 9,
   "metadata": {},
   "outputs": [],
   "source": [
    "mnist_train.columns = cols\n",
    "mnist_test.columns = cols"
   ]
  },
  {
   "cell_type": "code",
   "execution_count": 10,
   "metadata": {},
   "outputs": [
    {
     "data": {
      "text/html": [
       "<div>\n",
       "<style scoped>\n",
       "    .dataframe tbody tr th:only-of-type {\n",
       "        vertical-align: middle;\n",
       "    }\n",
       "\n",
       "    .dataframe tbody tr th {\n",
       "        vertical-align: top;\n",
       "    }\n",
       "\n",
       "    .dataframe thead th {\n",
       "        text-align: right;\n",
       "    }\n",
       "</style>\n",
       "<table border=\"1\" class=\"dataframe\">\n",
       "  <thead>\n",
       "    <tr style=\"text-align: right;\">\n",
       "      <th></th>\n",
       "      <th>label</th>\n",
       "      <th>px_1</th>\n",
       "      <th>px_2</th>\n",
       "      <th>px_3</th>\n",
       "      <th>px_4</th>\n",
       "      <th>px_5</th>\n",
       "      <th>px_6</th>\n",
       "      <th>px_7</th>\n",
       "      <th>px_8</th>\n",
       "      <th>px_9</th>\n",
       "      <th>...</th>\n",
       "      <th>px_775</th>\n",
       "      <th>px_776</th>\n",
       "      <th>px_777</th>\n",
       "      <th>px_778</th>\n",
       "      <th>px_779</th>\n",
       "      <th>px_780</th>\n",
       "      <th>px_781</th>\n",
       "      <th>px_782</th>\n",
       "      <th>px_783</th>\n",
       "      <th>px_784</th>\n",
       "    </tr>\n",
       "  </thead>\n",
       "  <tbody>\n",
       "    <tr>\n",
       "      <th>0</th>\n",
       "      <td>5</td>\n",
       "      <td>0</td>\n",
       "      <td>0</td>\n",
       "      <td>0</td>\n",
       "      <td>0</td>\n",
       "      <td>0</td>\n",
       "      <td>0</td>\n",
       "      <td>0</td>\n",
       "      <td>0</td>\n",
       "      <td>0</td>\n",
       "      <td>...</td>\n",
       "      <td>0</td>\n",
       "      <td>0</td>\n",
       "      <td>0</td>\n",
       "      <td>0</td>\n",
       "      <td>0</td>\n",
       "      <td>0</td>\n",
       "      <td>0</td>\n",
       "      <td>0</td>\n",
       "      <td>0</td>\n",
       "      <td>0</td>\n",
       "    </tr>\n",
       "    <tr>\n",
       "      <th>1</th>\n",
       "      <td>0</td>\n",
       "      <td>0</td>\n",
       "      <td>0</td>\n",
       "      <td>0</td>\n",
       "      <td>0</td>\n",
       "      <td>0</td>\n",
       "      <td>0</td>\n",
       "      <td>0</td>\n",
       "      <td>0</td>\n",
       "      <td>0</td>\n",
       "      <td>...</td>\n",
       "      <td>0</td>\n",
       "      <td>0</td>\n",
       "      <td>0</td>\n",
       "      <td>0</td>\n",
       "      <td>0</td>\n",
       "      <td>0</td>\n",
       "      <td>0</td>\n",
       "      <td>0</td>\n",
       "      <td>0</td>\n",
       "      <td>0</td>\n",
       "    </tr>\n",
       "    <tr>\n",
       "      <th>2</th>\n",
       "      <td>4</td>\n",
       "      <td>0</td>\n",
       "      <td>0</td>\n",
       "      <td>0</td>\n",
       "      <td>0</td>\n",
       "      <td>0</td>\n",
       "      <td>0</td>\n",
       "      <td>0</td>\n",
       "      <td>0</td>\n",
       "      <td>0</td>\n",
       "      <td>...</td>\n",
       "      <td>0</td>\n",
       "      <td>0</td>\n",
       "      <td>0</td>\n",
       "      <td>0</td>\n",
       "      <td>0</td>\n",
       "      <td>0</td>\n",
       "      <td>0</td>\n",
       "      <td>0</td>\n",
       "      <td>0</td>\n",
       "      <td>0</td>\n",
       "    </tr>\n",
       "    <tr>\n",
       "      <th>3</th>\n",
       "      <td>1</td>\n",
       "      <td>0</td>\n",
       "      <td>0</td>\n",
       "      <td>0</td>\n",
       "      <td>0</td>\n",
       "      <td>0</td>\n",
       "      <td>0</td>\n",
       "      <td>0</td>\n",
       "      <td>0</td>\n",
       "      <td>0</td>\n",
       "      <td>...</td>\n",
       "      <td>0</td>\n",
       "      <td>0</td>\n",
       "      <td>0</td>\n",
       "      <td>0</td>\n",
       "      <td>0</td>\n",
       "      <td>0</td>\n",
       "      <td>0</td>\n",
       "      <td>0</td>\n",
       "      <td>0</td>\n",
       "      <td>0</td>\n",
       "    </tr>\n",
       "    <tr>\n",
       "      <th>4</th>\n",
       "      <td>9</td>\n",
       "      <td>0</td>\n",
       "      <td>0</td>\n",
       "      <td>0</td>\n",
       "      <td>0</td>\n",
       "      <td>0</td>\n",
       "      <td>0</td>\n",
       "      <td>0</td>\n",
       "      <td>0</td>\n",
       "      <td>0</td>\n",
       "      <td>...</td>\n",
       "      <td>0</td>\n",
       "      <td>0</td>\n",
       "      <td>0</td>\n",
       "      <td>0</td>\n",
       "      <td>0</td>\n",
       "      <td>0</td>\n",
       "      <td>0</td>\n",
       "      <td>0</td>\n",
       "      <td>0</td>\n",
       "      <td>0</td>\n",
       "    </tr>\n",
       "  </tbody>\n",
       "</table>\n",
       "<p>5 rows × 785 columns</p>\n",
       "</div>"
      ],
      "text/plain": [
       "   label  px_1  px_2  px_3  px_4  px_5  px_6  px_7  px_8  px_9  ...  px_775  \\\n",
       "0      5     0     0     0     0     0     0     0     0     0  ...       0   \n",
       "1      0     0     0     0     0     0     0     0     0     0  ...       0   \n",
       "2      4     0     0     0     0     0     0     0     0     0  ...       0   \n",
       "3      1     0     0     0     0     0     0     0     0     0  ...       0   \n",
       "4      9     0     0     0     0     0     0     0     0     0  ...       0   \n",
       "\n",
       "   px_776  px_777  px_778  px_779  px_780  px_781  px_782  px_783  px_784  \n",
       "0       0       0       0       0       0       0       0       0       0  \n",
       "1       0       0       0       0       0       0       0       0       0  \n",
       "2       0       0       0       0       0       0       0       0       0  \n",
       "3       0       0       0       0       0       0       0       0       0  \n",
       "4       0       0       0       0       0       0       0       0       0  \n",
       "\n",
       "[5 rows x 785 columns]"
      ]
     },
     "execution_count": 10,
     "metadata": {},
     "output_type": "execute_result"
    }
   ],
   "source": [
    "mnist_train.head(5)"
   ]
  },
  {
   "cell_type": "code",
   "execution_count": 11,
   "metadata": {},
   "outputs": [],
   "source": [
    "image_row = mnist_train.values[10, 1:]"
   ]
  },
  {
   "cell_type": "code",
   "execution_count": 12,
   "metadata": {},
   "outputs": [
    {
     "data": {
      "text/plain": [
       "(784,)"
      ]
     },
     "execution_count": 12,
     "metadata": {},
     "output_type": "execute_result"
    }
   ],
   "source": [
    "image_row.shape"
   ]
  },
  {
   "cell_type": "code",
   "execution_count": 13,
   "metadata": {},
   "outputs": [],
   "source": [
    "image = image_row.reshape(28, 28)"
   ]
  },
  {
   "cell_type": "code",
   "execution_count": 14,
   "metadata": {},
   "outputs": [
    {
     "data": {
      "text/plain": [
       "(28, 28)"
      ]
     },
     "execution_count": 14,
     "metadata": {},
     "output_type": "execute_result"
    }
   ],
   "source": [
    "image.shape"
   ]
  },
  {
   "cell_type": "code",
   "execution_count": 15,
   "metadata": {},
   "outputs": [
    {
     "data": {
      "text/plain": [
       "<matplotlib.image.AxesImage at 0x21e371f8b38>"
      ]
     },
     "execution_count": 15,
     "metadata": {},
     "output_type": "execute_result"
    },
    {
     "data": {
      "image/png": "[encoded data removed]",
      "text/plain": [
       "<Figure size 432x288 with 1 Axes>"
      ]
     },
     "metadata": {
      "needs_background": "light"
     },
     "output_type": "display_data"
    }
   ],
   "source": [
    "plt.imshow(image, cmap=\"Greys\")"
   ]
  },
  {
   "cell_type": "code",
   "execution_count": 16,
   "metadata": {},
   "outputs": [],
   "source": [
    "# Nearest neighbors"
   ]
  },
  {
   "cell_type": "code",
   "execution_count": 17,
   "metadata": {},
   "outputs": [],
   "source": [
    "from sklearn.neighbors import KNeighborsClassifier"
   ]
  },
  {
   "cell_type": "code",
   "execution_count": 18,
   "metadata": {},
   "outputs": [],
   "source": [
    "train_data = mnist_train.values[:, 1:]\n",
    "test_data = mnist_test.values[:, 1:]"
   ]
  },
  {
   "cell_type": "code",
   "execution_count": 19,
   "metadata": {},
   "outputs": [],
   "source": [
    "train_label = mnist_train.values[:, 0]\n",
    "test_label = mnist_test.values[:, 0]"
   ]
  },
  {
   "cell_type": "code",
   "execution_count": 20,
   "metadata": {},
   "outputs": [
    {
     "name": "stdout",
     "output_type": "stream",
     "text": [
      "(60000, 784) (10000, 784)\n"
     ]
    }
   ],
   "source": [
    "print(train_data.shape, test_data.shape)"
   ]
  },
  {
   "cell_type": "code",
   "execution_count": 21,
   "metadata": {},
   "outputs": [
    {
     "name": "stdout",
     "output_type": "stream",
     "text": [
      "(60000,) (10000,)\n"
     ]
    }
   ],
   "source": [
    "print(train_label.shape, test_label.shape)"
   ]
  },
  {
   "cell_type": "code",
   "execution_count": null,
   "metadata": {},
   "outputs": [],
   "source": []
  },
  {
   "cell_type": "code",
   "execution_count": 22,
   "metadata": {},
   "outputs": [],
   "source": [
    "kn_cslassifier = KNeighborsClassifier(n_jobs=-1)"
   ]
  },
  {
   "cell_type": "code",
   "execution_count": 23,
   "metadata": {},
   "outputs": [],
   "source": [
    "kn_cslassifier = kn_cslassifier.fit(train_data, train_label)"
   ]
  },
  {
   "cell_type": "code",
   "execution_count": null,
   "metadata": {},
   "outputs": [],
   "source": []
  },
  {
   "cell_type": "code",
   "execution_count": 35,
   "metadata": {},
   "outputs": [
    {
     "name": "stdout",
     "output_type": "stream",
     "text": [
      "На рисунке представлена цифра 6:\n"
     ]
    },
    {
     "data": {
      "image/png": "[encoded data removed]",
      "text/plain": [
       "<Figure size 432x288 with 1 Axes>"
      ]
     },
     "metadata": {
      "needs_background": "light"
     },
     "output_type": "display_data"
    }
   ],
   "source": [
    "test_id = 100\n",
    "plt.imshow(test_data[test_id, :].reshape(28, 28), cmap=\"Greys\")\n",
    "print(f\"На рисунке представлена цифра {test_label[test_id]}:\")"
   ]
  },
  {
   "cell_type": "code",
   "execution_count": 36,
   "metadata": {},
   "outputs": [
    {
     "data": {
      "text/plain": [
       "array([6], dtype=int64)"
      ]
     },
     "execution_count": 36,
     "metadata": {},
     "output_type": "execute_result"
    }
   ],
   "source": [
    "kn_cslassifier.predict(test_data[test_id, :].reshape(1, 784))"
   ]
  },
  {
   "cell_type": "code",
   "execution_count": 37,
   "metadata": {},
   "outputs": [],
   "source": [
    "from sklearn.metrics import accuracy_score"
   ]
  },
  {
   "cell_type": "code",
   "execution_count": 39,
   "metadata": {},
   "outputs": [],
   "source": [
    "kn_predictions = kn_cslassifier.predict(test_data)"
   ]
  },
  {
   "cell_type": "code",
   "execution_count": 46,
   "metadata": {},
   "outputs": [
    {
     "name": "stdout",
     "output_type": "stream",
     "text": [
      "KNeighborsClassifier.predict() accuracy percent: 96.88%\n"
     ]
    }
   ],
   "source": [
    "accuracy = accuracy_score(test_label, kn_predictions)\n",
    "print(f\"KNeighborsClassifier.predict() accuracy percent: {accuracy * 100}%\")"
   ]
  },
  {
   "cell_type": "code",
   "execution_count": null,
   "metadata": {},
   "outputs": [],
   "source": []
  },
  {
   "cell_type": "code",
   "execution_count": null,
   "metadata": {},
   "outputs": [],
   "source": []
  },
  {
   "cell_type": "code",
   "execution_count": null,
   "metadata": {},
   "outputs": [],
   "source": []
  },
  {
   "cell_type": "code",
   "execution_count": null,
   "metadata": {},
   "outputs": [],
   "source": []
  }
 ],
 "metadata": {
  "kernelspec": {
   "display_name": "Python 3",
   "language": "python",
   "name": "python3"
  },
  "language_info": {
   "codemirror_mode": {
    "name": "ipython",
    "version": 3
   },
   "file_extension": ".py",
   "mimetype": "text/x-python",
   "name": "python",
   "nbconvert_exporter": "python",
   "pygments_lexer": "ipython3",
   "version": "3.7.3"
  }
 },
 "nbformat": 4,
 "nbformat_minor": 2
}
